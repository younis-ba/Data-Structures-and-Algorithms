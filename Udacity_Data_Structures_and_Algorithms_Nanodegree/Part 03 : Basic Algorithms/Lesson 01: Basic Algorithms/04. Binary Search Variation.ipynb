{
 "cells": [
  {
   "attachments": {},
   "cell_type": "markdown",
   "metadata": {},
   "source": [
    "## **04. Binary Search Variation**\n"
   ]
  },
  {
   "attachments": {},
   "cell_type": "markdown",
   "metadata": {},
   "source": [
    "Now that you've gone through the work of building a binary search function, let's take some time to try out a few exercises that are variations (or extensions) of binary search. We'll provide the function for you to start:\n",
    "\n"
   ]
  },
  {
   "cell_type": "code",
   "execution_count": 2,
   "metadata": {},
   "outputs": [],
   "source": [
    "def recursive_binary_search(target, source, left=0):\n",
    "    \n",
    "    if len(source) == 0:\n",
    "        return None\n",
    "\n",
    "    center = (len(source)-1) // 2\n",
    "\n",
    "    if source[center] == target:\n",
    "        return center + left  # return the index of the target\n",
    "\n",
    "    elif source[center] < target:  # right-hand side\n",
    "        return recursive_binary_search(target, source[center+1:], left+center+1)\n",
    "\n",
    "    else:  # left-hand side\n",
    "        return recursive_binary_search(target, source[:center], left)\n"
   ]
  },
  {
   "attachments": {},
   "cell_type": "markdown",
   "metadata": {},
   "source": [
    "### **Find First**\n"
   ]
  },
  {
   "cell_type": "markdown",
   "metadata": {},
   "source": [
    "The binary search function is guaranteed to return an index for the element you're looking for in an array, but what if the element appears more than once?\n",
    "\n"
   ]
  },
  {
   "attachments": {},
   "cell_type": "markdown",
   "metadata": {},
   "source": [
    "Consider this array:\n",
    "\n"
   ]
  },
  {
   "attachments": {},
   "cell_type": "markdown",
   "metadata": {},
   "source": [
    "`[1, 3, 5, 7, 7, 7, 8, 11, 12]`\n",
    "\n"
   ]
  },
  {
   "attachments": {},
   "cell_type": "markdown",
   "metadata": {},
   "source": [
    "Let's find the number 7:\n",
    "\n"
   ]
  },
  {
   "cell_type": "code",
   "execution_count": 3,
   "metadata": {},
   "outputs": [
    {
     "data": {
      "text/plain": [
       "4"
      ]
     },
     "execution_count": 3,
     "metadata": {},
     "output_type": "execute_result"
    }
   ],
   "source": [
    "multiple = [1, 3, 5, 7, 7, 7, 8, 11, 12]\n",
    "recursive_binary_search(7, multiple)"
   ]
  },
  {
   "attachments": {},
   "cell_type": "markdown",
   "metadata": {},
   "source": [
    "**Hmm...**\n"
   ]
  },
  {
   "attachments": {},
   "cell_type": "markdown",
   "metadata": {},
   "source": [
    "Looks like we got the index 4, which is correct, but what if we wanted to find the first occurrence of an element, rather than just any occurrence?\n",
    "\n"
   ]
  },
  {
   "attachments": {},
   "cell_type": "markdown",
   "metadata": {},
   "source": [
    "Write a new function: `find_first()` that uses binary_search as a starting point.\n",
    "\n"
   ]
  },
  {
   "attachments": {},
   "cell_type": "markdown",
   "metadata": {},
   "source": [
    "> Hint: You shouldn't need to modify binary_search() at all.\n",
    "\n"
   ]
  },
  {
   "cell_type": "code",
   "execution_count": null,
   "metadata": {},
   "outputs": [],
   "source": [
    "\n",
    "def find_first(target, source):\n",
    "    # as the array is sorted a good strategy is to find the target value with the recursive procedure first and \n",
    "    # iterate over the left-hand side contiguos elements until we find the first element.\n",
    "    pass\n",
    "\n",
    "multiple = [1, 3, 5, 7, 7, 7, 8, 11, 12, 13, 14, 15]\n",
    "print(find_first(7, multiple)) # Should return 3\n",
    "print(find_first(9, multiple)) # Should return None\n",
    "\n",
    "\n",
    "## Add your own tests to verify that your code works!"
   ]
  },
  {
   "attachments": {},
   "cell_type": "markdown",
   "metadata": {},
   "source": [
    "### **Spoiler - Solution below:**"
   ]
  },
  {
   "attachments": {},
   "cell_type": "markdown",
   "metadata": {},
   "source": [
    "Here's what we came up with! You're answer might be a little different.\n",
    "\n"
   ]
  },
  {
   "attachments": {},
   "cell_type": "markdown",
   "metadata": {},
   "source": [
    "```\n",
    "def find_first(target, source):\n",
    "    index = recursive_binary_search(target, source)\n",
    "    if not index:\n",
    "        return None\n",
    "    while source[index] == target:\n",
    "        if index == 0:\n",
    "            return 0\n",
    "        if source[index-1] == target:\n",
    "            index -= 1\n",
    "        else:\n",
    "            return index\n",
    "```"
   ]
  },
  {
   "cell_type": "code",
   "execution_count": 4,
   "metadata": {},
   "outputs": [
    {
     "name": "stdout",
     "output_type": "stream",
     "text": [
      "3\n",
      "None\n"
     ]
    }
   ],
   "source": [
    "def find_first(target, source):\n",
    "    index = recursive_binary_search(target, source)\n",
    "    if not index:\n",
    "        return None\n",
    "    while source[index] == target:\n",
    "        if index == 0:\n",
    "            return 0\n",
    "        if source[index-1] == target:\n",
    "            index -= 1\n",
    "        else:\n",
    "            return index\n",
    "\n",
    "multiple = [1, 3, 5, 7, 7, 7, 8, 11, 12, 13, 14, 15]\n",
    "print(find_first(7, multiple)) # Should return 3\n",
    "print(find_first(9, multiple)) # Should return None"
   ]
  },
  {
   "attachments": {},
   "cell_type": "markdown",
   "metadata": {},
   "source": [
    "### **Contains**"
   ]
  },
  {
   "attachments": {},
   "cell_type": "markdown",
   "metadata": {},
   "source": [
    "The second variation is a function that returns a boolean value indicating whether an element is present, but with no information about the location of that element.\n",
    "\n"
   ]
  },
  {
   "attachments": {},
   "cell_type": "markdown",
   "metadata": {},
   "source": [
    "**For example:**\n",
    "\n"
   ]
  },
  {
   "attachments": {},
   "cell_type": "markdown",
   "metadata": {},
   "source": [
    "```\n",
    "letters = ['a', 'c', 'd', 'f', 'g']\n",
    "print(contains('a', letters)) ## True\n",
    "print(contains('b', letters)) ## False\n",
    "\n",
    "```\n"
   ]
  },
  {
   "attachments": {},
   "cell_type": "markdown",
   "metadata": {},
   "source": [
    "There are a few different ways to approach this, so try it out, and we'll share two solutions after.\n",
    "\n"
   ]
  },
  {
   "cell_type": "code",
   "execution_count": 5,
   "metadata": {},
   "outputs": [
    {
     "name": "stdout",
     "output_type": "stream",
     "text": [
      "None\n",
      "None\n"
     ]
    }
   ],
   "source": [
    "def contains(target, source):\n",
    "    pass\n",
    "\n",
    "letters = ['a', 'c', 'd', 'f', 'g']\n",
    "print(contains('a', letters)) ## True\n",
    "print(contains('b', letters)) ## False"
   ]
  },
  {
   "cell_type": "code",
   "execution_count": null,
   "metadata": {},
   "outputs": [],
   "source": [
    "  # Native implementation of binary search in the `contains` function.\n",
    "def contains(target, source):\n",
    "    if len(source) == 0:\n",
    "        return False\n",
    "    center = (len(source)-1) // 2\n",
    "    if source[center] == target:\n",
    "        return True\n",
    "    elif source[center] < target:\n",
    "        return contains(target, source[center+1:])\n",
    "    else:\n",
    "        return contains(target, source[:center])\n",
    "\n",
    "letters = ['a', 'c', 'd', 'f', 'g']\n",
    "print(contains('c', letters)) ## True\n",
    "print(contains('b', letters)) ## False"
   ]
  },
  {
   "attachments": {},
   "cell_type": "markdown",
   "metadata": {},
   "source": [
    "### **Awesome work!**\n"
   ]
  }
 ],
 "metadata": {
  "kernelspec": {
   "display_name": "Python 3",
   "language": "python",
   "name": "python3"
  },
  "language_info": {
   "codemirror_mode": {
    "name": "ipython",
    "version": 3
   },
   "file_extension": ".py",
   "mimetype": "text/x-python",
   "name": "python",
   "nbconvert_exporter": "python",
   "pygments_lexer": "ipython3",
   "version": "3.10.6"
  },
  "orig_nbformat": 4
 },
 "nbformat": 4,
 "nbformat_minor": 2
}
