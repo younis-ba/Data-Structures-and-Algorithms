{
 "cells": [
  {
   "attachments": {},
   "cell_type": "markdown",
   "metadata": {},
   "source": [
    "## **03. Binary search practice**\n"
   ]
  },
  {
   "attachments": {},
   "cell_type": "markdown",
   "metadata": {},
   "source": [
    "Let's get some practice doing binary search on an array of integers. We'll solve the problem two different ways—both iteratively and resursively.\n",
    "\n"
   ]
  },
  {
   "attachments": {},
   "cell_type": "markdown",
   "metadata": {},
   "source": [
    "Here is a reminder of how the algorithm works:\n",
    "\n"
   ]
  },
  {
   "attachments": {},
   "cell_type": "markdown",
   "metadata": {},
   "source": [
    "1. Find the center of the list (try setting an upper and lower bound to find the center)\n",
    "\n",
    "2. Check to see if the element at the center is your target.\n",
    "\n",
    "3. If it is, return the index.\n",
    "\n",
    "4. If not, is the target greater or less than that element?\n",
    "\n",
    "5. If greater, move the lower bound to just above the current center\n",
    "\n",
    "6. If less, move the upper bound to just below the current center\n",
    "\n",
    "7. Repeat steps 1-6 until you find the target or until the bounds are the same or cross (the upper bound is less than the lower bound)."
   ]
  },
  {
   "attachments": {},
   "cell_type": "markdown",
   "metadata": {},
   "source": [
    "### **Problem statement**:\n"
   ]
  },
  {
   "attachments": {},
   "cell_type": "markdown",
   "metadata": {},
   "source": [
    "Given a sorted array of integers, and a target value, find the index of the target value in the array. If the target value is not present in the array, return -1.\n",
    "\n"
   ]
  },
  {
   "attachments": {},
   "cell_type": "markdown",
   "metadata": {},
   "source": [
    "### **Iterative solution**\n"
   ]
  },
  {
   "attachments": {},
   "cell_type": "markdown",
   "metadata": {},
   "source": [
    "First, see if you can code an iterative solution (i.e., one that uses loops). If you get stuck, the solution is below.\n",
    "\n"
   ]
  },
  {
   "cell_type": "code",
   "execution_count": 19,
   "metadata": {},
   "outputs": [],
   "source": [
    "def binary_search(array, target):\n",
    "    '''\n",
    "    Write a function that implements the binary search algorithm using iteration\n",
    "   \n",
    "    args:\n",
    "      array: a sorted array of items of the same type\n",
    "      target: the element you're searching for\n",
    "   \n",
    "    returns:\n",
    "      int: the index of the target, if found, in the source\n",
    "      -1: if the target is not found\n",
    "    '''\n",
    "    start_index = 0\n",
    "    end_index = len(array) - 1\n",
    "    \n",
    "    while start_index <= end_index:\n",
    "        mid_index = (start_index + end_index)//2        # integer floor division in Python 3\n",
    "        \n",
    "        mid_element = array[mid_index]\n",
    "        \n",
    "        if target == mid_element:                       # we have found the element\n",
    "            return mid_index\n",
    "        \n",
    "        elif target < mid_element:                      # the target is less than mid element\n",
    "            end_index = mid_index - 1                   # we will only search in the left half\n",
    "        \n",
    "        else:                                           # the target is greater than mid element\n",
    "            start_index = mid_element + 1               # we will search only in the right half\n",
    "    \n",
    "    return -1\n",
    "        "
   ]
  },
  {
   "cell_type": "code",
   "execution_count": 20,
   "metadata": {},
   "outputs": [],
   "source": [
    "def test_function(test_case):\n",
    "    answer = binary_search(test_case[0], test_case[1])\n",
    "    if answer == test_case[2]:\n",
    "        print(\"Pass!\")\n",
    "    else:\n",
    "        print(\"Fail!\")"
   ]
  },
  {
   "cell_type": "code",
   "execution_count": 22,
   "metadata": {},
   "outputs": [
    {
     "name": "stdout",
     "output_type": "stream",
     "text": [
      "Pass!\n"
     ]
    }
   ],
   "source": [
    "array = [0, 1, 2, 3, 4, 5, 6, 7, 8, 9, 10]\n",
    "target = 6\n",
    "index = 6\n",
    "test_case = [array, target, index]\n",
    "test_function(test_case)"
   ]
  },
  {
   "attachments": {},
   "cell_type": "markdown",
   "metadata": {},
   "source": [
    "### **Recursive solution**\n"
   ]
  },
  {
   "attachments": {},
   "cell_type": "markdown",
   "metadata": {},
   "source": [
    "Now, see if you can write a function that gives the same results, but that uses recursion to do so.\n",
    "\n"
   ]
  },
  {
   "cell_type": "code",
   "execution_count": 26,
   "metadata": {},
   "outputs": [],
   "source": [
    "def binary_search_recursive(array, target, start_index, end_index):\n",
    "    '''Write a function that implements the binary search algorithm using recursion\n",
    "    \n",
    "    args:\n",
    "      array: a sorted array of items of the same type\n",
    "      target: the element you're searching for\n",
    "         \n",
    "    returns:\n",
    "      int: the index of the target, if found, in the source\n",
    "      -1: if the target is not found\n",
    "    '''\n",
    "    pass "
   ]
  },
  {
   "cell_type": "code",
   "execution_count": 45,
   "metadata": {},
   "outputs": [],
   "source": [
    "def binary_search_recursive(array, target, start_index, end_index):\n",
    "    '''Write a function that implements the binary search algorithm using recursion\n",
    "    \n",
    "    args:\n",
    "      array: a sorted array of items of the same type\n",
    "      target: the element you're searching for\n",
    "         \n",
    "    returns:\n",
    "      int: the index of the target, if found, in the source\n",
    "      -1: if the target is not found\n",
    "    '''\n",
    "    if start_index > end_index :\n",
    "        return -1 \n",
    "    \n",
    "    mid_index= (start_index + end_index) // 2 \n",
    "    mid_element = array[mid_index]\n",
    "\n",
    "    if target == mid_element : \n",
    "        return mid_element \n",
    "    \n",
    "    elif target < mid_element : \n",
    "        return binary_search_recursive(array, target, start_index, mid_index - 1)\n",
    "    else : \n",
    "        return binary_search_recursive(array, target, mid_index + 1  , end_index)"
   ]
  },
  {
   "attachments": {},
   "cell_type": "markdown",
   "metadata": {},
   "source": [
    "Here's some code you can use to test the function:\n",
    "\n"
   ]
  },
  {
   "cell_type": "code",
   "execution_count": 46,
   "metadata": {},
   "outputs": [],
   "source": [
    "def test_function(test_case):\n",
    "    answer = binary_search_recursive(test_case[0], test_case[1], test_case[2], test_case[3])\n",
    "    if answer == test_case[1]:\n",
    "        print(\"Pass!\")\n",
    "    else:\n",
    "        print(\"Fail!\")"
   ]
  },
  {
   "cell_type": "code",
   "execution_count": 47,
   "metadata": {},
   "outputs": [
    {
     "name": "stdout",
     "output_type": "stream",
     "text": [
      "Pass!\n"
     ]
    }
   ],
   "source": [
    "array = [0, 1, 2, 3, 4, 5, 6, 7, 8, 9]\n",
    "target = 4\n",
    "start_index = 0\n",
    "end_index = 10\n",
    "test_case = [array, target, start_index, end_index]\n",
    "test_function(test_case)"
   ]
  },
  {
   "cell_type": "code",
   "execution_count": null,
   "metadata": {},
   "outputs": [],
   "source": []
  }
 ],
 "metadata": {
  "kernelspec": {
   "display_name": "Python 3",
   "language": "python",
   "name": "python3"
  },
  "language_info": {
   "codemirror_mode": {
    "name": "ipython",
    "version": 3
   },
   "file_extension": ".py",
   "mimetype": "text/x-python",
   "name": "python",
   "nbconvert_exporter": "python",
   "pygments_lexer": "ipython3",
   "version": "3.10.6"
  },
  "orig_nbformat": 4
 },
 "nbformat": 4,
 "nbformat_minor": 2
}
