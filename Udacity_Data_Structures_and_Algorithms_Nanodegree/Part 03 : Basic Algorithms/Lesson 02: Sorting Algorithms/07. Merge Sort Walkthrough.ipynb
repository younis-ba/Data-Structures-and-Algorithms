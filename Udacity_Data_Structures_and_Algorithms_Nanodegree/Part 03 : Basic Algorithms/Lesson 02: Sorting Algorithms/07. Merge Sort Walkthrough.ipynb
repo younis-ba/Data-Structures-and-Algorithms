{
 "cells": [
  {
   "attachments": {},
   "cell_type": "markdown",
   "metadata": {},
   "source": [
    "## **07. Merge Sort Walkthrough**\n"
   ]
  },
  {
   "attachments": {},
   "cell_type": "markdown",
   "metadata": {},
   "source": [
    "### **MergeSort**\n"
   ]
  },
  {
   "attachments": {},
   "cell_type": "markdown",
   "metadata": {},
   "source": [
    "MergeSort is a divide and conquer algorithm that divides a list into equal halves until it has two single elements and then merges the sub-lists until the entire list has been reassembled in order.\n",
    "\n"
   ]
  },
  {
   "attachments": {},
   "cell_type": "markdown",
   "metadata": {},
   "source": [
    "### **Divide**\n"
   ]
  },
  {
   "attachments": {},
   "cell_type": "markdown",
   "metadata": {},
   "source": [
    "Our MergeSort code will focus first on the divide portion of the algorithm. If the list we receive has only a single element in it, the list can be considered sorted and we can return immediately. This is our recursion base case. If we have more than 1 element we need to split the list into equal halves and call MergeSort again for each half.\n",
    "\n"
   ]
  },
  {
   "attachments": {},
   "cell_type": "markdown",
   "metadata": {},
   "source": [
    "## **Conquer**"
   ]
  },
  {
   "attachments": {},
   "cell_type": "markdown",
   "metadata": {},
   "source": [
    "Once you have split the list down to single elements, your mergesort will start merging lists, in order, until you have reassembled the entire list in order.\n",
    "\n"
   ]
  },
  {
   "attachments": {},
   "cell_type": "markdown",
   "metadata": {},
   "source": [
    "## **Design**"
   ]
  },
  {
   "attachments": {},
   "cell_type": "markdown",
   "metadata": {},
   "source": [
    "First, let's sketch this out. It's clear we want a recursive function, but how will it govern its recursion?\n",
    "\n"
   ]
  },
  {
   "cell_type": "code",
   "execution_count": 3,
   "metadata": {},
   "outputs": [],
   "source": [
    "def mergesort(items):\n",
    "    # Base case, a list of 0 or 1 items is already sorted\n",
    "    if len(items) <= 1:\n",
    "        return items\n",
    "\n",
    "    # Otherwise, find the midpoint and split the list\n",
    "    # TODO\n",
    "    # left =\n",
    "    # right =\n",
    "\n",
    "    # Call mergesort recursively with the left and right half\n",
    "    left = mergesort(left)\n",
    "    right = mergesort(right)\n",
    "\n",
    "    # Merge our two halves and return\n",
    "    return merge(left, right)\n",
    "\n",
    "\n",
    "def merge(left, right):\n",
    "    # Given two ordered lists, merge them together in order,\n",
    "    # returning the merged list.\n",
    "    # TODO\n",
    "    pass\n"
   ]
  },
  {
   "attachments": {},
   "cell_type": "markdown",
   "metadata": {},
   "source": [
    "We have decomposed the problem, now we will address each piece separately.\n",
    "\n"
   ]
  },
  {
   "attachments": {},
   "cell_type": "markdown",
   "metadata": {},
   "source": [
    "#### **Divide**"
   ]
  },
  {
   "cell_type": "markdown",
   "metadata": {},
   "source": [
    "We can use python's // operator to find a midpoint. If items's length is even, we will have the midpoint. If items's length is odd, we will have one half larger by one.\n",
    "\n"
   ]
  },
  {
   "cell_type": "code",
   "execution_count": 1,
   "metadata": {},
   "outputs": [
    {
     "name": "stdout",
     "output_type": "stream",
     "text": [
      "List 1 midpoint: 2\n",
      "List 2 midpoint: 1\n"
     ]
    }
   ],
   "source": [
    "list1 = [0, 1, 2, 3]\n",
    "midpoint1 = len(list1) // 2\n",
    "print('List 1 midpoint: {}'.format(midpoint1))\n",
    "\n",
    "list2 = [4, 5, 6]\n",
    "midpoint2 = len(list2) // 2\n",
    "print('List 2 midpoint: {}'.format(midpoint2))"
   ]
  },
  {
   "attachments": {},
   "cell_type": "markdown",
   "metadata": {},
   "source": [
    "With our midpoints, we can slice the lists using python's special notation. Note, you can improve effencncy by not using the slice function. Instead, keep track of indicies.\n",
    "\n"
   ]
  },
  {
   "cell_type": "code",
   "execution_count": 2,
   "metadata": {},
   "outputs": [
    {
     "name": "stdout",
     "output_type": "stream",
     "text": [
      "List 1 left side: [0, 1]\n",
      "List 1 right side: [2, 3]\n",
      "List 2 left side: [4]\n",
      "List 2 right side: [5, 6]\n"
     ]
    }
   ],
   "source": [
    "left1 = list1[:midpoint1] # midpoint1 inddex value excluded\n",
    "right1 = list1[midpoint1:]\n",
    "print('List 1 left side: {}'.format(left1))\n",
    "print('List 1 right side: {}'.format(right1))\n",
    "\n",
    "left2 = list2[:midpoint2]\n",
    "right2 = list2[midpoint2:]\n",
    "print('List 2 left side: {}'.format(left2))\n",
    "print('List 2 right side: {}'.format(right2))"
   ]
  },
  {
   "attachments": {},
   "cell_type": "markdown",
   "metadata": {},
   "source": [
    "That addresses our first TODO, now for the fun one.\n",
    "\n"
   ]
  },
  {
   "attachments": {},
   "cell_type": "markdown",
   "metadata": {},
   "source": [
    "The `merge` function needs to take two sorted lists, and interleave them, yielding a merged sorted list. We can accomplish that by tracking an index into both lists, and once one is exhausted, appending the remaining items from the other list.\n",
    "\n"
   ]
  },
  {
   "cell_type": "code",
   "execution_count": 8,
   "metadata": {},
   "outputs": [],
   "source": [
    "def mergesort(items):\n",
    "    # Base case, a list of 0 or 1 items is already sorted\n",
    "    if len(items) <= 1:\n",
    "        return items\n",
    "\n",
    "    # Otherwise, find the midpoint and split the list\n",
    "    # TODO\n",
    "    midpoint= len(items) // 2 \n",
    "    left = items[:midpoint]\n",
    "    right = items[midpoint:]\n",
    "\n",
    "    # Call mergesort recursively with the left and right half\n",
    "    left = mergesort(left)\n",
    "    right = mergesort(right)\n",
    "\n",
    "    # Merge our two halves and return\n",
    "    return merge(left, right)\n",
    "\n",
    "\n",
    "def merge(left, right):\n",
    "    # Given two ordered lists, merge them together in order,\n",
    "    # returning the merged list.\n",
    "    # TODO\n",
    "    merged=[]\n",
    "    left_index = 0 \n",
    "    right_index = 0 \n",
    "\n",
    "    while left_index < len(left) and right_index < len(right) : \n",
    "        if left[left_index] > right[right_index] : \n",
    "            merged.append(right[right_index]) \n",
    "            right_index += 1 \n",
    "        else : \n",
    "            merged.append(left[left_index]) \n",
    "            left_index += 1 \n",
    "    merged += left[left_index:] \n",
    "    merged += right[right_index:] \n",
    "    \n",
    "    return merged\n",
    "\n",
    "\n"
   ]
  },
  {
   "cell_type": "code",
   "execution_count": 10,
   "metadata": {},
   "outputs": [
    {
     "name": "stdout",
     "output_type": "stream",
     "text": [
      "[1, 2, 3, 5, 6, 7]\n"
     ]
    }
   ],
   "source": [
    "def merge(left, right):\n",
    "    merged = []\n",
    "    left_index = 0\n",
    "    right_index = 0\n",
    "    \n",
    "    # Move through the lists until we have exhausted one\n",
    "    while left_index < len(left) and right_index < len(right):\n",
    "        # If left's item is larger, append right's item\n",
    "        # and increment the index\n",
    "        if left[left_index] > right[right_index]:\n",
    "            merged.append(right[right_index])\n",
    "            right_index += 1\n",
    "        # Otherwise, append left's item and increment\n",
    "        else:\n",
    "            merged.append(left[left_index])\n",
    "            left_index += 1\n",
    "     \n",
    "    # Append any leftovers. Because we've broken from our while loop,\n",
    "    # we know at least one is empty, and the remaining:\n",
    "    # a) are already sorted\n",
    "    # b) all sort past our last element in merged\n",
    "    merged += left[left_index:]\n",
    "    merged += right[right_index:]\n",
    "        \n",
    "    # return the ordered, merged list\n",
    "    return merged\n",
    "\n",
    "# Test this out\n",
    "merged = merge([1,3,7], [2,5,6])\n",
    "print(merged)"
   ]
  },
  {
   "attachments": {},
   "cell_type": "markdown",
   "metadata": {},
   "source": [
    "Now we can combine our **TODO** resolutions into our sketch from above.\n",
    "\n"
   ]
  },
  {
   "cell_type": "code",
   "execution_count": 11,
   "metadata": {},
   "outputs": [
    {
     "name": "stdout",
     "output_type": "stream",
     "text": [
      "---------- list: [8, 3, 1, 7, 0, 10, 2] --------------\n",
      "CALL STACK: 1 \t mergesort([8, 3, 1, 7, 0, 10, 2])\n",
      "mid index: 3 \t left: [8, 3, 1] \t   right: [7, 0, 10, 2]\n",
      "-------START: \t mergesort(left: [8, 3, 1])\n",
      "CALL STACK: 2 \t mergesort([8, 3, 1])\n",
      "mid index: 1 \t left: [8] \t   right: [3, 1]\n",
      "-------START: \t mergesort(left: [8])\n",
      "CALL STACK: 3 \t mergesort([8])\n",
      "------RETURN: \t left: [8]\n",
      "---------END: \t mergesort(left: [8])\n",
      "-------START: \t mergesort(right: [3, 1])\n",
      "CALL STACK: 3 \t mergesort([3, 1])\n",
      "mid index: 1 \t left: [3] \t   right: [1]\n",
      "-------START: \t mergesort(left: [3])\n",
      "CALL STACK: 4 \t mergesort([3])\n",
      "------RETURN: \t left: [3]\n",
      "---------END: \t mergesort(left: [3])\n",
      "-------START: \t mergesort(right: [1])\n",
      "CALL STACK: 4 \t mergesort([1])\n",
      "------RETURN: \t right: [1]\n",
      "---------END: \t mergesort(right: [1])\n",
      "MERGE CALL: \t merge([3],[1]) \t CALL STACK: 3 \t mergesort([3, 1])\n",
      "------RETURN: \t right: [1, 3]\n",
      "---------END: \t mergesort(right: [1, 3])\n",
      "MERGE CALL: \t merge([8],[1, 3]) \t CALL STACK: 2 \t mergesort([8, 1, 3])\n",
      "------RETURN: \t left: [1, 3, 8]\n",
      "---------END: \t mergesort(left: [1, 3, 8])\n",
      "-------START: \t mergesort(right: [7, 0, 10, 2])\n",
      "CALL STACK: 2 \t mergesort([7, 0, 10, 2])\n",
      "mid index: 2 \t left: [7, 0] \t   right: [10, 2]\n",
      "-------START: \t mergesort(left: [7, 0])\n",
      "CALL STACK: 3 \t mergesort([7, 0])\n",
      "mid index: 1 \t left: [7] \t   right: [0]\n",
      "-------START: \t mergesort(left: [7])\n",
      "CALL STACK: 4 \t mergesort([7])\n",
      "------RETURN: \t left: [7]\n",
      "---------END: \t mergesort(left: [7])\n",
      "-------START: \t mergesort(right: [0])\n",
      "CALL STACK: 4 \t mergesort([0])\n",
      "------RETURN: \t right: [0]\n",
      "---------END: \t mergesort(right: [0])\n",
      "MERGE CALL: \t merge([7],[0]) \t CALL STACK: 3 \t mergesort([7, 0])\n",
      "------RETURN: \t left: [0, 7]\n",
      "---------END: \t mergesort(left: [0, 7])\n",
      "-------START: \t mergesort(right: [10, 2])\n",
      "CALL STACK: 3 \t mergesort([10, 2])\n",
      "mid index: 1 \t left: [10] \t   right: [2]\n",
      "-------START: \t mergesort(left: [10])\n",
      "CALL STACK: 4 \t mergesort([10])\n",
      "------RETURN: \t left: [10]\n",
      "---------END: \t mergesort(left: [10])\n",
      "-------START: \t mergesort(right: [2])\n",
      "CALL STACK: 4 \t mergesort([2])\n",
      "------RETURN: \t right: [2]\n",
      "---------END: \t mergesort(right: [2])\n",
      "MERGE CALL: \t merge([10],[2]) \t CALL STACK: 3 \t mergesort([10, 2])\n",
      "------RETURN: \t right: [2, 10]\n",
      "---------END: \t mergesort(right: [2, 10])\n",
      "MERGE CALL: \t merge([0, 7],[2, 10]) \t CALL STACK: 2 \t mergesort([0, 7, 2, 10])\n",
      "------RETURN: \t right: [0, 2, 7, 10]\n",
      "---------END: \t mergesort(right: [0, 2, 7, 10])\n",
      "MERGE CALL: \t merge([1, 3, 8],[0, 2, 7, 10]) \t CALL STACK: 1 \t mergesort([1, 3, 8, 0, 2, 7, 10])\n",
      "RESULT : [8, 3, 1, 7, 0, 10, 2] to [0, 1, 2, 3, 7, 8, 10]\n",
      "---------- list: [1, 0] --------------\n",
      "CALL STACK: 1 \t mergesort([1, 0])\n",
      "mid index: 1 \t left: [1] \t   right: [0]\n",
      "-------START: \t mergesort(left: [1])\n",
      "CALL STACK: 2 \t mergesort([1])\n",
      "------RETURN: \t left: [1]\n",
      "---------END: \t mergesort(left: [1])\n",
      "-------START: \t mergesort(right: [0])\n",
      "CALL STACK: 2 \t mergesort([0])\n",
      "------RETURN: \t right: [0]\n",
      "---------END: \t mergesort(right: [0])\n",
      "MERGE CALL: \t merge([1],[0]) \t CALL STACK: 1 \t mergesort([1, 0])\n",
      "RESULT : [1, 0] to [0, 1]\n",
      "---------- list: [97, 98, 99] --------------\n",
      "CALL STACK: 1 \t mergesort([97, 98, 99])\n",
      "mid index: 1 \t left: [97] \t   right: [98, 99]\n",
      "-------START: \t mergesort(left: [97])\n",
      "CALL STACK: 2 \t mergesort([97])\n",
      "------RETURN: \t left: [97]\n",
      "---------END: \t mergesort(left: [97])\n",
      "-------START: \t mergesort(right: [98, 99])\n",
      "CALL STACK: 2 \t mergesort([98, 99])\n",
      "mid index: 1 \t left: [98] \t   right: [99]\n",
      "-------START: \t mergesort(left: [98])\n",
      "CALL STACK: 3 \t mergesort([98])\n",
      "------RETURN: \t left: [98]\n",
      "---------END: \t mergesort(left: [98])\n",
      "-------START: \t mergesort(right: [99])\n",
      "CALL STACK: 3 \t mergesort([99])\n",
      "------RETURN: \t right: [99]\n",
      "---------END: \t mergesort(right: [99])\n",
      "MERGE CALL: \t merge([98],[99]) \t CALL STACK: 2 \t mergesort([98, 99])\n",
      "------RETURN: \t right: [98, 99]\n",
      "---------END: \t mergesort(right: [98, 99])\n",
      "MERGE CALL: \t merge([97],[98, 99]) \t CALL STACK: 1 \t mergesort([97, 98, 99])\n",
      "RESULT : [97, 98, 99] to [97, 98, 99]\n"
     ]
    }
   ],
   "source": [
    "def mergesort(items, call_stack):\n",
    "    \n",
    "    print('CALL STACK: {} \\t mergesort({})'.format(call_stack, items))\n",
    "    if len(items) <= 1:\n",
    "        call_stack -= 1\n",
    "        return items\n",
    "    \n",
    "    mid = len(items) // 2\n",
    "    left = items[:mid]\n",
    "    right = items[mid:]\n",
    "    print('mid index: {} \\t left: {} \\t   right: {}'.format(mid,left,right))\n",
    "    \n",
    "    call_stack += 1\n",
    "    print('-------START: \\t mergesort(left: {})'.format(left))\n",
    "    left = mergesort(left, call_stack)\n",
    "    print('------RETURN: \\t left: {}'.format(left))\n",
    "    print('---------END: \\t mergesort(left: {})'.format(left))\n",
    "    print('-------START: \\t mergesort(right: {})'.format(right))\n",
    "    right = mergesort(right, call_stack)\n",
    "    print('------RETURN: \\t right: {}'.format(right))\n",
    "    print('---------END: \\t mergesort(right: {})'.format(right))\n",
    "    \n",
    "    return merge(left, right, call_stack-1)\n",
    "    \n",
    "def merge(left, right, call_stack):\n",
    "    \n",
    "    arr = left+right\n",
    "    print('MERGE CALL: \\t merge({},{}) \\t CALL STACK: {} \\t mergesort({})'.format(left,right,call_stack,arr))\n",
    "    merged = []\n",
    "    left_index = 0\n",
    "    right_index = 0\n",
    "    \n",
    "    while left_index < len(left) and right_index < len(right):\n",
    "        if left[left_index] > right[right_index]:\n",
    "            merged.append(right[right_index])\n",
    "            right_index += 1\n",
    "        else:\n",
    "            merged.append(left[left_index])\n",
    "            left_index += 1\n",
    "\n",
    "    merged += left[left_index:]\n",
    "    merged += right[right_index:]\n",
    "        \n",
    "    return merged\n",
    "\n",
    "\n",
    "test_list_1 = [8, 3, 1, 7, 0, 10, 2]\n",
    "test_list_2 = [1, 0]\n",
    "test_list_3 = [97, 98, 99]\n",
    "print('---------- list: {} --------------'.format(test_list_1))\n",
    "call_stack = 1\n",
    "print('RESULT : {} to {}'.format(test_list_1, mergesort(test_list_1, call_stack)))\n",
    "print('---------- list: {} --------------'.format(test_list_2))\n",
    "print('RESULT : {} to {}'.format(test_list_2, mergesort(test_list_2, call_stack)))\n",
    "print('---------- list: {} --------------'.format(test_list_3))\n",
    "print('RESULT : {} to {}'.format(test_list_3, mergesort(test_list_3, call_stack)))"
   ]
  }
 ],
 "metadata": {
  "kernelspec": {
   "display_name": "Python 3",
   "language": "python",
   "name": "python3"
  },
  "language_info": {
   "codemirror_mode": {
    "name": "ipython",
    "version": 3
   },
   "file_extension": ".py",
   "mimetype": "text/x-python",
   "name": "python",
   "nbconvert_exporter": "python",
   "pygments_lexer": "ipython3",
   "version": "3.10.6"
  },
  "orig_nbformat": 4
 },
 "nbformat": 4,
 "nbformat_minor": 2
}
