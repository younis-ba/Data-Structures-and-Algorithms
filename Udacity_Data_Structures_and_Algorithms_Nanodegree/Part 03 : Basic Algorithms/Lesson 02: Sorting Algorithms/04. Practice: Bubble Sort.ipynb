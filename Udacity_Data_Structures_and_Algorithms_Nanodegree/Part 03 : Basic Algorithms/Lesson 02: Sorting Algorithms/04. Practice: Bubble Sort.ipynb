{
 "cells": [
  {
   "attachments": {},
   "cell_type": "markdown",
   "metadata": {},
   "source": [
    "## **04. Practice: Bubble Sort**\n"
   ]
  },
  {
   "attachments": {},
   "cell_type": "markdown",
   "metadata": {},
   "source": [
    "Now that you know how about bubble sort works, you'll implement bubble sort for two exercises.\n",
    "\n"
   ]
  },
  {
   "attachments": {},
   "cell_type": "markdown",
   "metadata": {},
   "source": [
    "### **Exercise 1**\n"
   ]
  },
  {
   "attachments": {},
   "cell_type": "markdown",
   "metadata": {},
   "source": [
    "Sam records when they wake up every morning. Assuming Sam always wakes up in the same hour, use bubble sort to sort by earliest to latest.\n",
    "\n"
   ]
  },
  {
   "cell_type": "code",
   "execution_count": null,
   "metadata": {},
   "outputs": [],
   "source": [
    "wakeup_times = [16,49,3,12,56,49,55,22,13,46,19,55,46,13,25,56,9,48,45]\n",
    "def bubble_sort_1(l):\n",
    "    # TODO: Implement bubble sort solution\n",
    "    pass\n",
    "\n",
    "bubble_sort_1(wakeup_times)\n",
    "print (\"Pass\" if (wakeup_times[0] == 3) else \"Fail\")"
   ]
  },
  {
   "cell_type": "code",
   "execution_count": 9,
   "metadata": {},
   "outputs": [
    {
     "name": "stdout",
     "output_type": "stream",
     "text": [
      "Pass\n"
     ]
    }
   ],
   "source": [
    "wakeup_times = [16, 49, 3, 12, 56, 49, 55, 22,\n",
    "                13, 46, 19, 55, 46, 13, 25, 56, 9, 48, 45]\n",
    "\n",
    "\n",
    "def bubble_sort_1(l):\n",
    "    # TODO: Implement bubble sort solution\n",
    "    for i in range(len(l)):\n",
    "        for index in range(1, len(l)):\n",
    "\n",
    "            curr = l[index]\n",
    "            prev = l[index-1]\n",
    "\n",
    "            # skip this iteration and compare the prev to the successive element\n",
    "            if prev <= curr:\n",
    "                continue\n",
    "\n",
    "            l[index] = prev\n",
    "            l[index-1] = curr\n",
    "    return l\n",
    "\n",
    "\n",
    "bubble_sort_1(wakeup_times)\n",
    "print(\"Pass\" if (wakeup_times[0] == 3) else \"Fail\")\n"
   ]
  },
  {
   "attachments": {},
   "cell_type": "markdown",
   "metadata": {},
   "source": [
    "### **Exercise 2**\n"
   ]
  },
  {
   "attachments": {},
   "cell_type": "markdown",
   "metadata": {},
   "source": [
    "Sam doesn't always go to sleep in the same hour. Given the following times Sam has gone to sleep, sort the times from latest to earliest.\n",
    "\n"
   ]
  },
  {
   "cell_type": "code",
   "execution_count": 10,
   "metadata": {},
   "outputs": [
    {
     "name": "stdout",
     "output_type": "stream",
     "text": [
      "Fail\n"
     ]
    }
   ],
   "source": [
    "# Entries are (h, m) where h is the hour and m is the minute\n",
    "sleep_times = [(24,13), (21,55), (23,20), (22,5), (24,23), (21,58), (24,3)]\n",
    "\n",
    "def bubble_sort_2(l):\n",
    "    # TODO: Implement bubble sort solution\n",
    "    pass\n",
    "\n",
    "bubble_sort_2(sleep_times)\n",
    "print (\"Pass\" if (sleep_times == [(24,23), (24,13), (24,3), (23,20), (22,5), (21,58), (21,55)]) else \"Fail\")"
   ]
  },
  {
   "cell_type": "code",
   "execution_count": 23,
   "metadata": {},
   "outputs": [
    {
     "name": "stdout",
     "output_type": "stream",
     "text": [
      "Pass\n"
     ]
    }
   ],
   "source": [
    "# Entries are (h, m) where h is the hour and m is the minute\n",
    "sleep_times = [(24,13), (21,55), (23,20), (22,5), (24,23), (21,58), (24,3)]\n",
    "\n",
    "def bubble_sort_2(l):\n",
    "    # TODO: Implement bubble sort solution\n",
    "    \n",
    "    for i in range(len(l)):\n",
    "        for index in range(1,len(l)):\n",
    "            this_hour, this_min=l[index]\n",
    "            prev_hour , prev_min = l[index-1]\n",
    "\n",
    "            if prev_hour > this_hour or (prev_hour == this_hour and prev_min > this_min) : \n",
    "                continue\n",
    "        \n",
    "\n",
    "            l[index] = (prev_hour,prev_min)\n",
    "            l[index-1] = (this_hour, this_min)\n",
    "\n",
    "bubble_sort_2(sleep_times)\n",
    "print (\"Pass\" if (sleep_times == [(24,23), (24,13), (24,3), (23,20), (22,5), (21,58), (21,55)]) else \"Fail\")"
   ]
  },
  {
   "cell_type": "code",
   "execution_count": 11,
   "metadata": {},
   "outputs": [
    {
     "name": "stdout",
     "output_type": "stream",
     "text": [
      "outerloop\n",
      "iteration: 1 [(24, 13), (21, 55), (23, 20), (22, 5), (24, 23), (21, 58), (24, 3)] (24,13) (21,55)\n",
      "iteration: 2 [(24, 13), (21, 55), (23, 20), (22, 5), (24, 23), (21, 58), (24, 3)] (21,55) (23,20)\n",
      "iteration: 3 [(24, 13), (23, 20), (21, 55), (22, 5), (24, 23), (21, 58), (24, 3)] (21,55) (22,5)\n",
      "iteration: 4 [(24, 13), (23, 20), (22, 5), (21, 55), (24, 23), (21, 58), (24, 3)] (21,55) (24,23)\n",
      "iteration: 5 [(24, 13), (23, 20), (22, 5), (24, 23), (21, 55), (21, 58), (24, 3)] (21,55) (21,58)\n",
      "iteration: 6 [(24, 13), (23, 20), (22, 5), (24, 23), (21, 58), (21, 55), (24, 3)] (21,55) (24,3)\n",
      "outerloop\n",
      "iteration: 7 [(24, 13), (23, 20), (22, 5), (24, 23), (21, 58), (24, 3), (21, 55)] (24,13) (23,20)\n",
      "iteration: 8 [(24, 13), (23, 20), (22, 5), (24, 23), (21, 58), (24, 3), (21, 55)] (23,20) (22,5)\n",
      "iteration: 9 [(24, 13), (23, 20), (22, 5), (24, 23), (21, 58), (24, 3), (21, 55)] (22,5) (24,23)\n",
      "iteration: 10 [(24, 13), (23, 20), (24, 23), (22, 5), (21, 58), (24, 3), (21, 55)] (22,5) (21,58)\n",
      "iteration: 11 [(24, 13), (23, 20), (24, 23), (22, 5), (21, 58), (24, 3), (21, 55)] (21,58) (24,3)\n",
      "iteration: 12 [(24, 13), (23, 20), (24, 23), (22, 5), (24, 3), (21, 58), (21, 55)] (21,58) (21,55)\n",
      "outerloop\n",
      "iteration: 13 [(24, 13), (23, 20), (24, 23), (22, 5), (24, 3), (21, 58), (21, 55)] (24,13) (23,20)\n",
      "iteration: 14 [(24, 13), (23, 20), (24, 23), (22, 5), (24, 3), (21, 58), (21, 55)] (23,20) (24,23)\n",
      "iteration: 15 [(24, 13), (24, 23), (23, 20), (22, 5), (24, 3), (21, 58), (21, 55)] (23,20) (22,5)\n",
      "iteration: 16 [(24, 13), (24, 23), (23, 20), (22, 5), (24, 3), (21, 58), (21, 55)] (22,5) (24,3)\n",
      "iteration: 17 [(24, 13), (24, 23), (23, 20), (24, 3), (22, 5), (21, 58), (21, 55)] (22,5) (21,58)\n",
      "iteration: 18 [(24, 13), (24, 23), (23, 20), (24, 3), (22, 5), (21, 58), (21, 55)] (21,58) (21,55)\n",
      "outerloop\n",
      "iteration: 19 [(24, 13), (24, 23), (23, 20), (24, 3), (22, 5), (21, 58), (21, 55)] (24,13) (24,23)\n",
      "iteration: 20 [(24, 23), (24, 13), (23, 20), (24, 3), (22, 5), (21, 58), (21, 55)] (24,13) (23,20)\n",
      "iteration: 21 [(24, 23), (24, 13), (23, 20), (24, 3), (22, 5), (21, 58), (21, 55)] (23,20) (24,3)\n",
      "iteration: 22 [(24, 23), (24, 13), (24, 3), (23, 20), (22, 5), (21, 58), (21, 55)] (23,20) (22,5)\n",
      "iteration: 23 [(24, 23), (24, 13), (24, 3), (23, 20), (22, 5), (21, 58), (21, 55)] (22,5) (21,58)\n",
      "iteration: 24 [(24, 23), (24, 13), (24, 3), (23, 20), (22, 5), (21, 58), (21, 55)] (21,58) (21,55)\n",
      "outerloop\n",
      "iteration: 25 [(24, 23), (24, 13), (24, 3), (23, 20), (22, 5), (21, 58), (21, 55)] (24,23) (24,13)\n",
      "iteration: 26 [(24, 23), (24, 13), (24, 3), (23, 20), (22, 5), (21, 58), (21, 55)] (24,13) (24,3)\n",
      "iteration: 27 [(24, 23), (24, 13), (24, 3), (23, 20), (22, 5), (21, 58), (21, 55)] (24,3) (23,20)\n",
      "iteration: 28 [(24, 23), (24, 13), (24, 3), (23, 20), (22, 5), (21, 58), (21, 55)] (23,20) (22,5)\n",
      "iteration: 29 [(24, 23), (24, 13), (24, 3), (23, 20), (22, 5), (21, 58), (21, 55)] (22,5) (21,58)\n",
      "iteration: 30 [(24, 23), (24, 13), (24, 3), (23, 20), (22, 5), (21, 58), (21, 55)] (21,58) (21,55)\n",
      "outerloop\n",
      "iteration: 31 [(24, 23), (24, 13), (24, 3), (23, 20), (22, 5), (21, 58), (21, 55)] (24,23) (24,13)\n",
      "iteration: 32 [(24, 23), (24, 13), (24, 3), (23, 20), (22, 5), (21, 58), (21, 55)] (24,13) (24,3)\n",
      "iteration: 33 [(24, 23), (24, 13), (24, 3), (23, 20), (22, 5), (21, 58), (21, 55)] (24,3) (23,20)\n",
      "iteration: 34 [(24, 23), (24, 13), (24, 3), (23, 20), (22, 5), (21, 58), (21, 55)] (23,20) (22,5)\n",
      "iteration: 35 [(24, 23), (24, 13), (24, 3), (23, 20), (22, 5), (21, 58), (21, 55)] (22,5) (21,58)\n",
      "iteration: 36 [(24, 23), (24, 13), (24, 3), (23, 20), (22, 5), (21, 58), (21, 55)] (21,58) (21,55)\n",
      "outerloop\n",
      "iteration: 37 [(24, 23), (24, 13), (24, 3), (23, 20), (22, 5), (21, 58), (21, 55)] (24,23) (24,13)\n",
      "iteration: 38 [(24, 23), (24, 13), (24, 3), (23, 20), (22, 5), (21, 58), (21, 55)] (24,13) (24,3)\n",
      "iteration: 39 [(24, 23), (24, 13), (24, 3), (23, 20), (22, 5), (21, 58), (21, 55)] (24,3) (23,20)\n",
      "iteration: 40 [(24, 23), (24, 13), (24, 3), (23, 20), (22, 5), (21, 58), (21, 55)] (23,20) (22,5)\n",
      "iteration: 41 [(24, 23), (24, 13), (24, 3), (23, 20), (22, 5), (21, 58), (21, 55)] (22,5) (21,58)\n",
      "iteration: 42 [(24, 23), (24, 13), (24, 3), (23, 20), (22, 5), (21, 58), (21, 55)] (21,58) (21,55)\n",
      "Pass\n",
      "number of iteration: 7*6 = 42\n"
     ]
    }
   ],
   "source": [
    "def bubble_sort_2(l):\n",
    "    iter = 0\n",
    "    for iteration in range(len(l)):\n",
    "        print('outerloop')\n",
    "        for index in range(1, len(l)):\n",
    "            this_hour, this_min = l[index]\n",
    "            prev_hour, prev_min = l[index - 1]\n",
    "            iter += 1\n",
    "            print('iteration: {} {} ({},{}) ({},{})'.format(iter,l,prev_hour,prev_min,this_hour, this_min))\n",
    "            if prev_hour > this_hour or (prev_hour == this_hour and prev_min > this_min):\n",
    "                continue\n",
    "\n",
    "            l[index] = (prev_hour, prev_min)\n",
    "            l[index - 1] = (this_hour, this_min)\n",
    "\n",
    "\n",
    "# Entries are (h, m) where h is the hour and m is the minute\n",
    "sleep_times = [(24,13), (21,55), (23,20), (22,5), (24,23), (21,58), (24,3)]\n",
    "bubble_sort_2(sleep_times)\n",
    "print (\"Pass\" if (sleep_times == [(24,23), (24,13), (24,3), (23,20), (22,5), (21,58), (21,55)]) else \"Fail\")\n",
    "print('number of iteration: 7*6 = {}'.format(7*6))"
   ]
  },
  {
   "cell_type": "markdown",
   "metadata": {},
   "source": []
  },
  {
   "cell_type": "code",
   "execution_count": null,
   "metadata": {},
   "outputs": [],
   "source": []
  }
 ],
 "metadata": {
  "kernelspec": {
   "display_name": "Python 3",
   "language": "python",
   "name": "python3"
  },
  "language_info": {
   "codemirror_mode": {
    "name": "ipython",
    "version": 3
   },
   "file_extension": ".py",
   "mimetype": "text/x-python",
   "name": "python",
   "nbconvert_exporter": "python",
   "pygments_lexer": "ipython3",
   "version": "3.10.6"
  },
  "orig_nbformat": 4
 },
 "nbformat": 4,
 "nbformat_minor": 2
}
