{
 "cells": [
  {
   "attachments": {},
   "cell_type": "markdown",
   "metadata": {},
   "source": [
    "## 03. Exploring the Map Concept"
   ]
  },
  {
   "attachments": {},
   "cell_type": "markdown",
   "metadata": {},
   "source": [
    "In Python, the `map` concept appears as a built-in data type called a dictionary. A dictionary contains key-value pairs. Dictionaries might soon become your favorite data structure in Python—they're extremely easy to use and useful. Here's a sample of setting up a dictionary.\n",
    "\n"
   ]
  },
  {
   "cell_type": "code",
   "execution_count": 1,
   "metadata": {},
   "outputs": [
    {
     "name": "stdout",
     "output_type": "stream",
     "text": [
      "{'u': 1, 'd': 2, 'a': 3, 'c': 4, 'i': 5, 't': 6, 'y': 7}\n"
     ]
    }
   ],
   "source": [
    "udacity = {}\n",
    "udacity['u'] = 1\n",
    "udacity['d'] = 2\n",
    "udacity['a'] = 3\n",
    "udacity['c'] = 4\n",
    "udacity['i'] = 5\n",
    "udacity['t'] = 6\n",
    "udacity['y'] = 7\n",
    "\n",
    "print (udacity)\n",
    "# {'u': 1, 'd': 2, 'a': 3, 'c': 4, 'i': 5, 't': 6, 'y': 7}"
   ]
  },
  {
   "attachments": {},
   "cell_type": "markdown",
   "metadata": {},
   "source": [
    "In this case, the letters in \"udacity\" were each keys in our dictionary, and the position of that letter in the string was the value. Thus, I can do the following:\n",
    "\n"
   ]
  },
  {
   "cell_type": "code",
   "execution_count": 2,
   "metadata": {},
   "outputs": [
    {
     "name": "stdout",
     "output_type": "stream",
     "text": [
      "6\n"
     ]
    }
   ],
   "source": [
    "print (udacity['t'])\n",
    "# 6"
   ]
  },
  {
   "attachments": {},
   "cell_type": "markdown",
   "metadata": {},
   "source": [
    "This statement is saying \"go to the key labeled 't' and find it's value, 6\".\n",
    "\n"
   ]
  },
  {
   "cell_type": "code",
   "execution_count": 3,
   "metadata": {},
   "outputs": [
    {
     "name": "stdout",
     "output_type": "stream",
     "text": [
      "{'d': [1], 'i': [2, 5], 'c': [3], 't': [4], 'o': [6], 'n': [7], 'a': [8], 'r': [9], 'y': [10]}\n"
     ]
    }
   ],
   "source": [
    "dictionary = {}\n",
    "dictionary['d'] = [1]\n",
    "dictionary['i'] = [2]\n",
    "dictionary['c'] = [3]\n",
    "dictionary['t'] = [4]\n",
    "dictionary['i'].append(5)\n",
    "dictionary['o'] = [6]\n",
    "dictionary['n'] = [7]\n",
    "dictionary['a'] = [8]\n",
    "dictionary['r'] = [9]\n",
    "dictionary['y'] = [10]\n",
    "print (dictionary)\n",
    "# {'d': [1], 'i': [2, 5], 'c': [3], 't': [4], 'o': [6], 'n': [7], 'a': [8], 'r': [9], 'y':[10]}"
   ]
  },
  {
   "attachments": {},
   "cell_type": "markdown",
   "metadata": {},
   "source": [
    "Time to play with Python dictionaries! You're going to work on a dictionary that stores cities by country and continent. One is done for you - the city of Mountain View is in the USA, which is in North America.\n",
    "\n"
   ]
  },
  {
   "attachments": {},
   "cell_type": "markdown",
   "metadata": {},
   "source": [
    "You need to add the cities listed below by modifying the structure. Then, you should print out the values specified by looking them up in the structure.\n",
    "\n"
   ]
  },
  {
   "attachments": {},
   "cell_type": "markdown",
   "metadata": {},
   "source": [
    "Cities to add: Bangalore (India, Asia) Atlanta (USA, North America) Cairo (Egypt, Africa) Shanghai (China, Asia)\n",
    "\n"
   ]
  },
  {
   "attachments": {},
   "cell_type": "markdown",
   "metadata": {},
   "source": [
    "locations = {'North America': {'USA': ['Mountain View']}}\n",
    "\n"
   ]
  },
  {
   "attachments": {},
   "cell_type": "markdown",
   "metadata": {},
   "source": [
    "Print the following (using \"print\").\n",
    "\n"
   ]
  },
  {
   "attachments": {},
   "cell_type": "markdown",
   "metadata": {},
   "source": [
    "1. A list of all cities in the USA in\n"
   ]
  },
  {
   "attachments": {},
   "cell_type": "markdown",
   "metadata": {},
   "source": [
    "alphabetic order. 2. All cities in Asia, in alphabetic order, next to the name of the country. In your output, label each answer with a number so it looks like this:\n",
    "\n"
   ]
  },
  {
   "attachments": {},
   "cell_type": "markdown",
   "metadata": {},
   "source": [
    "1 <br>\n",
    "American City<br>\n",
    "American City<br>\n",
    "2<br>\n",
    "Asian City - Country<br>\n",
    "Asian City - Country<br>"
   ]
  },
  {
   "cell_type": "code",
   "execution_count": 4,
   "metadata": {},
   "outputs": [
    {
     "name": "stdout",
     "output_type": "stream",
     "text": [
      "{'USA': ['Mountain View', 'Atlanta']}\n",
      "1\n",
      "Atlanta\n",
      "Mountain View\n",
      "2\n",
      "China-Bangalore\n",
      "India-Bangalore\n"
     ]
    }
   ],
   "source": [
    "# Code\n",
    "\n",
    "locations = {'North America': {'USA': ['Mountain View']}}\n",
    "locations['North America']['USA'].append('Atlanta')\n",
    "locations['Asia'] = {'India': ['Bangalore'], 'China': ['Shanghai']}\n",
    "locations['Africa'] = {'Egypt': ['Cairo']}\n",
    "\n",
    "print(locations['North America'])\n",
    "\n",
    "# TODO: Print a list of all cities in the USA in alphabetic order.\n",
    "usa_loc = locations['North America']['USA']\n",
    "usa_loc.sort()\n",
    "print (1)\n",
    "for city in usa_loc:\n",
    "    print (city)\n",
    "\n",
    "\n",
    "# TODO: Print all cities in Asia, in alphabetic order, next to the name of the country\n",
    "asia_loc = locations['Asia']\n",
    "asia_loc_list = [element + '-' + str(*asia_loc['India']) for element in asia_loc]\n",
    "asia_loc_list.sort()\n",
    "print (2)\n",
    "for country_city in asia_loc_list:\n",
    "    print (country_city)"
   ]
  },
  {
   "cell_type": "code",
   "execution_count": 5,
   "metadata": {},
   "outputs": [
    {
     "name": "stdout",
     "output_type": "stream",
     "text": [
      "1\n",
      "Atlanta\n",
      "Mountain View\n",
      "2\n",
      "Bangalore - India\n",
      "Shanghai - China\n"
     ]
    }
   ],
   "source": [
    "locations = {'North America': {'USA': ['Mountain View']}}\n",
    "locations['North America']['USA'].append('Atlanta')\n",
    "locations['Asia'] = {'India': ['Bangalore']}\n",
    "locations['Asia']['China'] = ['Shanghai']\n",
    "locations['Africa'] = {'Egypt': ['Cairo']}\n",
    "\n",
    "usa_sorted = sorted(locations['North America']['USA'])\n",
    "print (1)\n",
    "for city in usa_sorted:\n",
    "    print (city)\n",
    "\n",
    "asia_cities = []\n",
    "print (2)\n",
    "for countries, cities in locations['Asia'].items():\n",
    "    city_country = cities[0] + \" - \" + countries \n",
    "    asia_cities.append(city_country)\n",
    "asia_sorted = sorted(asia_cities)\n",
    "for city in asia_sorted:\n",
    "    print (city)"
   ]
  },
  {
   "cell_type": "code",
   "execution_count": null,
   "metadata": {},
   "outputs": [],
   "source": []
  }
 ],
 "metadata": {
  "kernelspec": {
   "display_name": "Python 3",
   "language": "python",
   "name": "python3"
  },
  "language_info": {
   "codemirror_mode": {
    "name": "ipython",
    "version": 3
   },
   "file_extension": ".py",
   "mimetype": "text/x-python",
   "name": "python",
   "nbconvert_exporter": "python",
   "pygments_lexer": "ipython3",
   "version": "3.10.6"
  },
  "orig_nbformat": 4
 },
 "nbformat": 4,
 "nbformat_minor": 2
}
