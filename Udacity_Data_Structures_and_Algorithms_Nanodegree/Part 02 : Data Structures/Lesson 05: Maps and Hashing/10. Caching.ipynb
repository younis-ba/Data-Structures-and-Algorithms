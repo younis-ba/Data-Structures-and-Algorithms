{
 "cells": [
  {
   "attachments": {},
   "cell_type": "markdown",
   "metadata": {},
   "source": [
    "## 10. Caching"
   ]
  },
  {
   "attachments": {},
   "cell_type": "markdown",
   "metadata": {},
   "source": [
    "Caching can be defined as the process of storing data into a temporary data storage to avoid recomputation or to avoid reading the data from a relatively slower part of memory again and again. Thus cachig serves as a fast \"look-up\" storage allowing programs to execute faster.\n",
    "\n"
   ]
  },
  {
   "attachments": {},
   "cell_type": "markdown",
   "metadata": {},
   "source": [
    "Let's use caching to chalk out an efficient solution for a problem.\n",
    "\n"
   ]
  },
  {
   "attachments": {},
   "cell_type": "markdown",
   "metadata": {},
   "source": [
    "### **Problem Statement**\n"
   ]
  },
  {
   "attachments": {},
   "cell_type": "markdown",
   "metadata": {},
   "source": [
    "A child is running up a staircase with and can hop either 1 step, 2 steps or 3 steps at a time. If the staircase has `n` steps, write a function to count the number of possible ways in which child can run up the stairs.\n",
    "\n"
   ]
  },
  {
   "attachments": {},
   "cell_type": "markdown",
   "metadata": {},
   "source": [
    "For e.g.\n",
    "\n"
   ]
  },
  {
   "attachments": {},
   "cell_type": "markdown",
   "metadata": {},
   "source": [
    "* `n == 1` then `answer = 1`\n",
    "\n",
    "* `n == 3` then `answer = 4`\n",
    "\n",
    "* `n == 5 `then `answer = 13`"
   ]
  },
  {
   "cell_type": "code",
   "execution_count": 13,
   "metadata": {},
   "outputs": [],
   "source": [
    "def staircase(n):\n",
    "    if n == 1 :\n",
    "        return 1 \n",
    "    elif n == 2 :\n",
    "        return 2 \n",
    "    elif n == 3 :\n",
    "        return 4 \n",
    "    return staircase(n - 1) + staircase(n - 2) +staircase(n - 3 )"
   ]
  },
  {
   "cell_type": "code",
   "execution_count": 14,
   "metadata": {},
   "outputs": [],
   "source": [
    "def test_function(test_case):\n",
    "    answer = staircase(test_case[0])\n",
    "    if answer == test_case[1]:\n",
    "        print(\"Pass\")\n",
    "    else:\n",
    "        print(\"Fail\")\n",
    "            "
   ]
  },
  {
   "cell_type": "code",
   "execution_count": 15,
   "metadata": {},
   "outputs": [
    {
     "name": "stdout",
     "output_type": "stream",
     "text": [
      "Pass\n"
     ]
    }
   ],
   "source": [
    "test_case = [4, 7]\n",
    "test_function(test_case)"
   ]
  },
  {
   "cell_type": "code",
   "execution_count": 16,
   "metadata": {},
   "outputs": [
    {
     "name": "stdout",
     "output_type": "stream",
     "text": [
      "Pass\n"
     ]
    }
   ],
   "source": [
    "test_case = [5, 13]\n",
    "test_function(test_case)"
   ]
  },
  {
   "cell_type": "code",
   "execution_count": 17,
   "metadata": {},
   "outputs": [
    {
     "name": "stdout",
     "output_type": "stream",
     "text": [
      "Pass\n"
     ]
    }
   ],
   "source": [
    "test_case = [3, 4]\n",
    "test_function(test_case)"
   ]
  },
  {
   "cell_type": "code",
   "execution_count": 18,
   "metadata": {},
   "outputs": [
    {
     "name": "stdout",
     "output_type": "stream",
     "text": [
      "Pass\n"
     ]
    }
   ],
   "source": [
    "\n",
    "test_case = [20, 121415]\n",
    "test_function(test_case)"
   ]
  },
  {
   "cell_type": "code",
   "execution_count": 19,
   "metadata": {},
   "outputs": [],
   "source": [
    "def staircase(n):\n",
    "    if n == 1:\n",
    "        return 1\n",
    "    elif n == 2:\n",
    "        return 2\n",
    "    elif n == 3:\n",
    "        return 4\n",
    "    return staircase(n - 1) + staircase(n - 2) + staircase(n - 3)"
   ]
  },
  {
   "attachments": {},
   "cell_type": "markdown",
   "metadata": {},
   "source": [
    "### **Problem Statement**"
   ]
  },
  {
   "cell_type": "markdown",
   "metadata": {},
   "source": [
    "While using recursion for the above problem, you might have noticed a small problem with efficiency.\n",
    "\n"
   ]
  },
  {
   "attachments": {},
   "cell_type": "markdown",
   "metadata": {},
   "source": [
    "Let's take a look at an example.\n",
    "\n"
   ]
  },
  {
   "attachments": {},
   "cell_type": "markdown",
   "metadata": {},
   "source": [
    "* Say the total number of steps are `5`. This means that we will have to call at `(n=4), (n=3), and (n=2)`\n",
    "\n",
    "* To calculate the answer for `n=4`, we would have to call `(n=3), (n=2) and (n=1)`"
   ]
  },
  {
   "attachments": {},
   "cell_type": "markdown",
   "metadata": {},
   "source": [
    "You can notice that even for a small number of staircases (here 5), we are calling `n=3` and `n=2` multiple times. Each time we call a method, additional time is required to calculate the solution. In contrast, instead of calling on a particular value of `n` again and again, we can calculate it once and store the result to speed up our program.\n",
    "\n"
   ]
  },
  {
   "attachments": {},
   "cell_type": "markdown",
   "metadata": {},
   "source": [
    "Your job is to use any data-structure that you have used until now to write a faster implementation of the function you wrote earlier while using recursion.\n",
    "\n"
   ]
  },
  {
   "cell_type": "code",
   "execution_count": 29,
   "metadata": {},
   "outputs": [],
   "source": [
    "def staircase(n):\n",
    "    num_dict = dict({})\n",
    "    return staircase_faster(n, num_dict)\n",
    "\n",
    "def staircase_faster(n, num_dict):\n",
    "    print('staircase({})'.format(n))\n",
    "    if n == 1:\n",
    "        output = 1\n",
    "    elif n == 2:\n",
    "        output = 2\n",
    "    elif n == 3:\n",
    "        output = 4\n",
    "    else:\n",
    "        if (n - 1) in num_dict:\n",
    "            first_output = num_dict[n - 1]\n",
    "        else:\n",
    "            first_output =  staircase_faster(n - 1, num_dict)\n",
    "        \n",
    "        if (n - 2) in num_dict:\n",
    "            second_output = num_dict[n - 2]\n",
    "        else:\n",
    "            second_output = staircase_faster(n - 2, num_dict)\n",
    "            \n",
    "        if (n - 3) in num_dict:\n",
    "            third_output = num_dict[n - 3]\n",
    "        else:\n",
    "            third_output = staircase_faster(n - 3, num_dict)\n",
    "        \n",
    "        output = first_output + second_output + third_output\n",
    "    \n",
    "    num_dict[n] = output;\n",
    "    return output"
   ]
  },
  {
   "cell_type": "code",
   "execution_count": 30,
   "metadata": {},
   "outputs": [
    {
     "name": "stdout",
     "output_type": "stream",
     "text": [
      "staircase(4)\n",
      "staircase(3)\n",
      "staircase(2)\n",
      "staircase(1)\n",
      "Pass\n"
     ]
    }
   ],
   "source": [
    "test_case = [4, 7]\n",
    "test_function(test_case)"
   ]
  },
  {
   "cell_type": "code",
   "execution_count": 23,
   "metadata": {},
   "outputs": [
    {
     "name": "stdout",
     "output_type": "stream",
     "text": [
      "staircase(5)\n",
      "staircase(4)\n",
      "staircase(3)\n",
      "staircase(2)\n",
      "staircase(1)\n",
      "Pass\n"
     ]
    }
   ],
   "source": [
    "\n",
    "test_case = [5, 13]\n",
    "test_function(test_case)"
   ]
  },
  {
   "cell_type": "code",
   "execution_count": 24,
   "metadata": {},
   "outputs": [
    {
     "name": "stdout",
     "output_type": "stream",
     "text": [
      "staircase(3)\n",
      "Pass\n"
     ]
    }
   ],
   "source": [
    "test_case = [3, 4]\n",
    "test_function(test_case)"
   ]
  },
  {
   "cell_type": "code",
   "execution_count": 25,
   "metadata": {},
   "outputs": [
    {
     "name": "stdout",
     "output_type": "stream",
     "text": [
      "staircase(20)\n",
      "staircase(19)\n",
      "staircase(18)\n",
      "staircase(17)\n",
      "staircase(16)\n",
      "staircase(15)\n",
      "staircase(14)\n",
      "staircase(13)\n",
      "staircase(12)\n",
      "staircase(11)\n",
      "staircase(10)\n",
      "staircase(9)\n",
      "staircase(8)\n",
      "staircase(7)\n",
      "staircase(6)\n",
      "staircase(5)\n",
      "staircase(4)\n",
      "staircase(3)\n",
      "staircase(2)\n",
      "staircase(1)\n",
      "Pass\n"
     ]
    }
   ],
   "source": [
    "test_case = [20, 121415]\n",
    "test_function(test_case)"
   ]
  },
  {
   "cell_type": "code",
   "execution_count": 31,
   "metadata": {},
   "outputs": [],
   "source": [
    "def staircase(n):\n",
    "    num_dict = dict({})\n",
    "    return staircase_faster(n, num_dict)\n",
    "\n",
    "def staircase_faster(n, num_dict):\n",
    "    if n == 1:\n",
    "        output = 1\n",
    "    elif n == 2:\n",
    "        output = 2\n",
    "    elif n == 3:\n",
    "        output = 4\n",
    "    else:\n",
    "        if (n - 1) in num_dict:\n",
    "            first_output = num_dict[n - 1]\n",
    "        else:\n",
    "            first_output =  staircase_faster(n - 1, num_dict)\n",
    "        \n",
    "        if (n - 2) in num_dict:\n",
    "            second_output = num_dict[n - 2]\n",
    "        else:\n",
    "            second_output = staircase_faster(n - 2, num_dict)\n",
    "            \n",
    "        if (n - 3) in num_dict:\n",
    "            third_output = num_dict[n - 3]\n",
    "        else:\n",
    "            third_output = staircase_faster(n - 3, num_dict)\n",
    "        \n",
    "        output = first_output + second_output + third_output\n",
    "    \n",
    "    num_dict[n] = output;\n",
    "    return output"
   ]
  },
  {
   "cell_type": "code",
   "execution_count": null,
   "metadata": {},
   "outputs": [],
   "source": []
  }
 ],
 "metadata": {
  "kernelspec": {
   "display_name": "Python 3",
   "language": "python",
   "name": "python3"
  },
  "language_info": {
   "codemirror_mode": {
    "name": "ipython",
    "version": 3
   },
   "file_extension": ".py",
   "mimetype": "text/x-python",
   "name": "python",
   "nbconvert_exporter": "python",
   "pygments_lexer": "ipython3",
   "version": "3.10.6"
  },
  "orig_nbformat": 4
 },
 "nbformat": 4,
 "nbformat_minor": 2
}
