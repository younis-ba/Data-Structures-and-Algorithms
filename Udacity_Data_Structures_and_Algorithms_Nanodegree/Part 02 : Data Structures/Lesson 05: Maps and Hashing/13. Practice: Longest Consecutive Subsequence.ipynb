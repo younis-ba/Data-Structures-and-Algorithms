{
 "cells": [
  {
   "attachments": {},
   "cell_type": "markdown",
   "metadata": {},
   "source": [
    "## **13. Practice: Longest Consecutive Subsequence**\n"
   ]
  },
  {
   "attachments": {},
   "cell_type": "markdown",
   "metadata": {},
   "source": [
    "### **Problem Statement**\n"
   ]
  },
  {
   "attachments": {},
   "cell_type": "markdown",
   "metadata": {},
   "source": [
    "Given list of integers that contain numbers in random order, write a program to find the longest possible sub sequence of consecutive numbers in the array. Return this subsequence in sorted order. The solution must take O(n) time\n",
    "\n"
   ]
  },
  {
   "attachments": {},
   "cell_type": "markdown",
   "metadata": {},
   "source": [
    "For e.g. given the list` 5, 4, 7, 10, 1, 3, 55, 2,` the output should be `1, 2, 3, 4, 5`\n",
    "\n"
   ]
  },
  {
   "attachments": {},
   "cell_type": "markdown",
   "metadata": {},
   "source": [
    "Note- If two arrays are of equal length return the array whose index of smallest element comes first.\n",
    "\n"
   ]
  },
  {
   "cell_type": "markdown",
   "metadata": {},
   "source": []
  },
  {
   "cell_type": "code",
   "execution_count": 12,
   "metadata": {},
   "outputs": [],
   "source": [
    "def longest_consecutive_subsequence(input_list):\n",
    "    # TODO: Write longest consecutive subsequence solution\n",
    "    \n",
    "    # iterate over the list and store element in a suitable data structure\n",
    "    # Note that all the consecutive subsequences is a partition of the list\n",
    "    # if the maximum length is one it means there are no consecutive numbers\n",
    "    # traverse / go over the data structure in a reasonable order to determine the solution\n",
    "    # note: the elements in the input_list are unique (i.e. no duplicates)\n",
    "    element_dict = dict()\n",
    "\n",
    "    for index, element in enumerate(input_list):\n",
    "        element_dict[element] = index\n",
    "        \n",
    "    print('List input:{}'.format(element_dict))\n",
    "    # maximum length of the sequence\n",
    "    max_length = -1\n",
    "    \n",
    "    # the length of the sequence can be at most equal to the size of the list\n",
    "    starts_at = len(input_list)\n",
    "\n",
    "    for index, element in enumerate(input_list):\n",
    "        current_starts = index\n",
    "        # set the index of the current element to -1 (it has been visited)\n",
    "        element_dict[element] = -1\n",
    "        \n",
    "        # we are going to compute the longest sequence for this element\n",
    "        print('current_starts: {}'.format(current_starts))\n",
    "        print(element_dict)\n",
    "        current_count = 1\n",
    "\n",
    "        # Calculate the size of the longest subsequence for the current element\n",
    "        # downwards < element < upwards\n",
    "        \n",
    "        # check upwards for the next consecutive integer.\n",
    "        current = element + 1\n",
    "\n",
    "        # if the element is in the dictionary (i.e in the array) and it has not been visited in a previous step\n",
    "        # (i.e the element has not been assigned to a subsequence yet.)\n",
    "        while current in element_dict and element_dict[current] > 0:\n",
    "            current_count += 1\n",
    "            element_dict[current] = -1\n",
    "            # check for the next integer\n",
    "            current = current + 1\n",
    "\n",
    "        # check downwards\n",
    "        current = element - 1\n",
    "        while current in element_dict and element_dict[current] > 0:\n",
    "            # since we are going downwards we must update the current start of the sequence\n",
    "            # it is the index of the smallest number in the sequence\n",
    "            current_starts = element_dict[current]\n",
    "            current_count += 1\n",
    "            element_dict[current] = -1\n",
    "            current = current - 1\n",
    "            \n",
    "            \n",
    "        # if the current length of the sequence is greater than the maximum found so far\n",
    "        if current_count >= max_length:\n",
    "            # if the current length == maximum and index of the first number in the sequence > the index\n",
    "            # of the longest sequence found so far than exit the for loop.\n",
    "            if current_count == max_length and current_starts > starts_at:\n",
    "                continue\n",
    "            # update the index of the first element of the longest subsequence\n",
    "            starts_at = current_starts\n",
    "            print('stats_at: {}'.format(starts_at))\n",
    "            max_length = current_count\n",
    "            \n",
    "        print(element_dict)\n",
    "        start_element = input_list[starts_at]\n",
    "        for element in range(start_element, start_element + max_length):\n",
    "            print(element)\n",
    "        # end for\n",
    "    \n",
    "    # starting at the first element of the list return all the consecutive numbers up to the maximum length\n",
    "    start_element = input_list[starts_at]\n",
    "    return [element for element in range(start_element, start_element + max_length)]"
   ]
  },
  {
   "cell_type": "code",
   "execution_count": null,
   "metadata": {},
   "outputs": [],
   "source": [
    "def test_function(test_case):\n",
    "    output = longest_consecutive_subsequence(test_case[0])\n",
    "    if output == test_case[1]:\n",
    "        print(\"Pass\")\n",
    "    else:\n",
    "        print(\"Fail\")\n",
    "    "
   ]
  },
  {
   "cell_type": "code",
   "execution_count": null,
   "metadata": {},
   "outputs": [],
   "source": [
    "test_case_1 = [[5, 4, 7, 10, 1, 3, 55, 2], [1, 2, 3, 4, 5]]\n",
    "test_function(test_case_1)"
   ]
  },
  {
   "cell_type": "code",
   "execution_count": null,
   "metadata": {},
   "outputs": [],
   "source": [
    "test_case_2 = [[2, 12, 9, 16, 10, 5, 3, 20, 25, 11, 1, 8, 6 ], [8, 9, 10, 11, 12]]\n",
    "test_function(test_case_2)"
   ]
  },
  {
   "cell_type": "code",
   "execution_count": null,
   "metadata": {},
   "outputs": [],
   "source": [
    "test_case_3 = [[0, 1, 2, 3, 4], [0, 1, 2, 3, 4]]\n",
    "test_function(test_case_3)"
   ]
  }
 ],
 "metadata": {
  "kernelspec": {
   "display_name": "Python 3",
   "language": "python",
   "name": "python3"
  },
  "language_info": {
   "codemirror_mode": {
    "name": "ipython",
    "version": 3
   },
   "file_extension": ".py",
   "mimetype": "text/x-python",
   "name": "python",
   "nbconvert_exporter": "python",
   "pygments_lexer": "ipython3",
   "version": "3.10.6"
  },
  "orig_nbformat": 4
 },
 "nbformat": 4,
 "nbformat_minor": 2
}
