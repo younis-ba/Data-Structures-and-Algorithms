{
 "cells": [
  {
   "cell_type": "markdown",
   "metadata": {},
   "source": [
    "## 06. List Permutations\n"
   ]
  },
  {
   "attachments": {},
   "cell_type": "markdown",
   "metadata": {},
   "source": [
    "Let's use recursion to help us solve this permutation problem:\n",
    "\n"
   ]
  },
  {
   "attachments": {},
   "cell_type": "markdown",
   "metadata": {},
   "source": [
    "Given a list of items, the goal is to find all of the permutations of that list. For example, if given a list like: `[\"apple\", \"water\"]`, you could create two permuations from it. One in the form of the original input and one in the reversed order like so: `[\"water\",\"apple\"]`\n",
    "\n"
   ]
  },
  {
   "cell_type": "code",
   "execution_count": 51,
   "metadata": {},
   "outputs": [],
   "source": [
    "# Code\n",
    "\n",
    "import copy\n",
    "\n",
    "def permute(l):\n",
    "    \"\"\"\n",
    "    Return a list of permutations\n",
    "    \n",
    "    Examples:\n",
    "       permute([0, 1]) returns [ [0, 1], [1, 0] ]\n",
    "    \n",
    "    Args:\n",
    "      l(list): list of items to be permuted\n",
    "    \n",
    "    Returns:\n",
    "      list of permutation with each permuted item being represented by a list\n",
    "    \"\"\"\n",
    "    print('Call permute')\n",
    "    perm = []\n",
    "    if len(l) == 0:\n",
    "        perm.append([])\n",
    "    else:\n",
    "        first_element = l[0]\n",
    "        sub_permutes = permute(l[1:])\n",
    "        print(sub_permutes)\n",
    "        for p in sub_permutes:\n",
    "            print(len(p))\n",
    "            for j in range(0, len(p) + 1):\n",
    "                r = copy.deepcopy(p)\n",
    "                r.insert(j, first_element)\n",
    "                perm.append(r)\n",
    "\n",
    "    return perm"
   ]
  },
  {
   "cell_type": "code",
   "execution_count": 106,
   "metadata": {},
   "outputs": [],
   "source": [
    "# Code\n",
    "\n",
    "def permute(l):\n",
    "    \"\"\"\n",
    "    Return a list of permutations\n",
    "    \n",
    "    Examples:\n",
    "       permute([0, 1]) returns [ [0, 1], [1, 0] ]\n",
    "    \n",
    "    Args:\n",
    "      l(list): list of items to be permuted\n",
    "    \n",
    "    Returns:\n",
    "      list of permutation with each permuted item being represented by a list\n",
    "    \"\"\"\n",
    "    print('Call permute')\n",
    "    result = []\n",
    "    if len(l) == 1:\n",
    "        return [l[:]]\n",
    "    \n",
    "    for i in range(len(l)) : \n",
    "        first_element = l.pop(0)\n",
    "        perms = permute(l)\n",
    "        print(perms)\n",
    "        for perm  in perms:\n",
    "            perm.append(first_element)\n",
    "        result.extend(perms)\n",
    "        l.append(first_element)\n",
    "        print(l)\n",
    "\n",
    "    return result"
   ]
  },
  {
   "cell_type": "code",
   "execution_count": 107,
   "metadata": {},
   "outputs": [],
   "source": [
    "## another sol\n",
    "def permutations(lst):\n",
    "    if len(lst) == 0:\n",
    "        return []\n",
    "    if len(lst) == 1:\n",
    "        return [lst]\n",
    "    \n",
    "    result = []\n",
    "    \n",
    "    for i in range(len(lst)):\n",
    "        rest = lst[:i] + lst[i+1:]\n",
    "        print(rest)\n",
    "        for p in permutations(rest):\n",
    "            result.append([lst[i]] + p)\n",
    "            \n",
    "    return result\n"
   ]
  },
  {
   "attachments": {},
   "cell_type": "markdown",
   "metadata": {},
   "source": [
    "2 , 3 \n",
    "\n",
    "1 3 "
   ]
  },
  {
   "cell_type": "code",
   "execution_count": 110,
   "metadata": {},
   "outputs": [
    {
     "name": "stdout",
     "output_type": "stream",
     "text": [
      "Call permute\n",
      "Fail\n",
      "Call permute\n",
      "Pass\n",
      "Call permute\n",
      "Call permute\n",
      "[[1]]\n",
      "[1, 0]\n",
      "Call permute\n",
      "[[0]]\n",
      "[0, 1]\n",
      "Pass\n",
      "Call permute\n",
      "Call permute\n",
      "Call permute\n",
      "[[2]]\n",
      "[2, 1]\n",
      "Call permute\n",
      "[[1]]\n",
      "[1, 2]\n",
      "[[2, 1], [1, 2]]\n",
      "[1, 2, 0]\n",
      "Call permute\n",
      "Call permute\n",
      "[[0]]\n",
      "[0, 2]\n",
      "Call permute\n",
      "[[2]]\n",
      "[2, 0]\n",
      "[[0, 2], [2, 0]]\n",
      "[2, 0, 1]\n",
      "Call permute\n",
      "Call permute\n",
      "[[1]]\n",
      "[1, 0]\n",
      "Call permute\n",
      "[[0]]\n",
      "[0, 1]\n",
      "[[1, 0], [0, 1]]\n",
      "[0, 1, 2]\n",
      "Pass\n"
     ]
    }
   ],
   "source": [
    "# Test Cases \n",
    "\n",
    "# Helper Function\n",
    "def check_output(output, expected_output):\n",
    "    \"\"\"\n",
    "    Return True if output and expected_output\n",
    "    contains the same lists, False otherwise.\n",
    "    \n",
    "    Note that the ordering of the list is not important.\n",
    "    \n",
    "    Examples:\n",
    "        check_output([ [0, 1], [1, 0] ] ], [ [1, 0], [0, 1] ]) returns True\n",
    "\n",
    "    Args:\n",
    "        output(list): list of list\n",
    "        expected_output(list): list of list\n",
    "    \n",
    "    Returns:\n",
    "        bool\n",
    "    \"\"\"\n",
    "    o = copy.deepcopy(output)  # so that we don't mutate input\n",
    "    e = copy.deepcopy(expected_output)  # so that we don't mutate input\n",
    "    \n",
    "    o.sort()\n",
    "    e.sort()\n",
    "    return o == e\n",
    "\n",
    "print (\"Pass\" if  (check_output(permute([]), [[]])) else \"Fail\")\n",
    "print (\"Pass\" if  (check_output(permute([0]), [[0]])) else \"Fail\")\n",
    "print (\"Pass\" if  (check_output(permute([0, 1]), [[0, 1], [1, 0]])) else \"Fail\")\n",
    "print (\"Pass\" if  (check_output(permute([0, 1, 2]), [[0, 1, 2], [0, 2, 1], [1, 0, 2], [1, 2, 0], [2, 0, 1], [2, 1, 0]])) else \"Fail\")"
   ]
  }
 ],
 "metadata": {
  "kernelspec": {
   "display_name": "Python 3",
   "language": "python",
   "name": "python3"
  },
  "language_info": {
   "codemirror_mode": {
    "name": "ipython",
    "version": 3
   },
   "file_extension": ".py",
   "mimetype": "text/x-python",
   "name": "python",
   "nbconvert_exporter": "python",
   "pygments_lexer": "ipython3",
   "version": "3.10.6"
  },
  "orig_nbformat": 4,
  "vscode": {
   "interpreter": {
    "hash": "916dbcbb3f70747c44a77c7bcd40155683ae19c65e1c03b4aa3499c5328201f1"
   }
  }
 },
 "nbformat": 4,
 "nbformat_minor": 2
}
