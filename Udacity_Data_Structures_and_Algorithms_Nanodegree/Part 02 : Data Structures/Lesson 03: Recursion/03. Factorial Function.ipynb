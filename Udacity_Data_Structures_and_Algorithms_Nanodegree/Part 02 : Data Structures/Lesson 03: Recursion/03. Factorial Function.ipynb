{
 "cells": [
  {
   "attachments": {},
   "cell_type": "markdown",
   "metadata": {},
   "source": [
    "## 03. Factorial Function"
   ]
  },
  {
   "attachments": {},
   "cell_type": "markdown",
   "metadata": {},
   "source": [
    "The factorial function is a mathematical function that multiplies a given number, <math xmlns=\"http://www.w3.org/1998/Math/MathML\">\n",
    "  <mi>n</mi>\n",
    "</math> and all of the whole numbers from  <mi>n</mi> down to 1.\n",
    "\n"
   ]
  },
  {
   "attachments": {},
   "cell_type": "markdown",
   "metadata": {},
   "source": [
    "For example, if <math xmlns=\"http://www.w3.org/1998/Math/MathML\">\n",
    "  <mi>n</mi>\n",
    "</math> is  <mi>4</mi> then we will get:"
   ]
  },
  {
   "attachments": {},
   "cell_type": "markdown",
   "metadata": {},
   "source": [
    "<math xmlns=\"http://www.w3.org/1998/Math/MathML\">\n",
    "  <mn>4</mn>\n",
    "  <mo>&#x2217;</mo>\n",
    "  <mn>3</mn>\n",
    "  <mo>&#x2217;</mo>\n",
    "  <mn>2</mn>\n",
    "  <mo>&#x2217;</mo>\n",
    "  <mn>1</mn>\n",
    "  <mo>=</mo>\n",
    "  <mn>24</mn>\n",
    "</math>"
   ]
  },
  {
   "attachments": {},
   "cell_type": "markdown",
   "metadata": {},
   "source": [
    "This is often notated using an exclamation point, as in <math xmlns=\"http://www.w3.org/1998/Math/MathML\">\n",
    "  <mn>4</mn>\n",
    "  <mo>!</mo>\n",
    "</math> (which would be read as \"four factorial\").\n",
    "\n"
   ]
  },
  {
   "attachments": {},
   "cell_type": "markdown",
   "metadata": {},
   "source": [
    "So  <math xmlns=\"http://www.w3.org/1998/Math/MathML\">\n",
    "  <mn>4</mn>\n",
    "  <mo>!</mo>\n",
    "  <mo>=</mo>\n",
    "  <mn>4</mn>\n",
    "  <mo>&#x2217;</mo>\n",
    "  <mn>3</mn>\n",
    "  <mo>&#x2217;</mo>\n",
    "  <mn>2</mn>\n",
    "  <mo>&#x2217;</mo>\n",
    "  <mn>1</mn>\n",
    "  <mo>=</mo>\n",
    "  <mn>24</mn>\n",
    "</math>"
   ]
  },
  {
   "attachments": {},
   "cell_type": "markdown",
   "metadata": {},
   "source": [
    "More generally, we can say that for any input <mi>n</mi> :"
   ]
  },
  {
   "attachments": {},
   "cell_type": "markdown",
   "metadata": {},
   "source": [
    "<math xmlns=\"http://www.w3.org/1998/Math/MathML\">\n",
    "  <mi>n</mi>\n",
    "  <mo>!</mo>\n",
    "  <mo>=</mo>\n",
    "  <mi>n</mi>\n",
    "  <mo>&#x2217;</mo>\n",
    "  <mo stretchy=\"false\">(</mo>\n",
    "  <mi>n</mi>\n",
    "  <mo>&#x2212;</mo>\n",
    "  <mn>1</mn>\n",
    "  <mo stretchy=\"false\">)</mo>\n",
    "  <mo>&#x2217;</mo>\n",
    "  <mo stretchy=\"false\">(</mo>\n",
    "  <mi>n</mi>\n",
    "  <mo>&#x2212;</mo>\n",
    "  <mn>2</mn>\n",
    "  <mo stretchy=\"false\">)</mo>\n",
    "  <mo>.</mo>\n",
    "  <mo>.</mo>\n",
    "  <mo>.</mo>\n",
    "  <mn>1</mn>\n",
    "</math>"
   ]
  },
  {
   "attachments": {},
   "cell_type": "markdown",
   "metadata": {},
   "source": [
    "If you look at this more closely, you will find that the factorial of any number is the product of that number and the factorial of the next smallest number. In other words:\n",
    "\n"
   ]
  },
  {
   "attachments": {},
   "cell_type": "markdown",
   "metadata": {},
   "source": [
    "<math xmlns=\"http://www.w3.org/1998/Math/MathML\">\n",
    "  <mi>n</mi>\n",
    "  <mo>!</mo>\n",
    "  <mo>=</mo>\n",
    "  <mi>n</mi>\n",
    "  <mo>&#x2217;</mo>\n",
    "  <mo stretchy=\"false\">(</mo>\n",
    "  <mi>n</mi>\n",
    "  <mo>&#x2212;</mo>\n",
    "  <mn>1</mn>\n",
    "  <mo stretchy=\"false\">)</mo>\n",
    "  <mo>!</mo>\n",
    "</math>"
   ]
  },
  {
   "attachments": {},
   "cell_type": "markdown",
   "metadata": {},
   "source": [
    "Notice that this is recursive, meaning that we can solve for the factorial of any given number by first solving for the factorial of the next smallest number, and the next smallest number, and the next smallest number, and so on, until we reach 1.\n",
    "\n"
   ]
  },
  {
   "attachments": {},
   "cell_type": "markdown",
   "metadata": {},
   "source": [
    "If you were to write a Python function called factorial to calculate the `factorial` of a number, then we could restate what we said above as follows:\n",
    "\n"
   ]
  },
  {
   "attachments": {},
   "cell_type": "markdown",
   "metadata": {},
   "source": [
    "`factorial(n) = n * factorial(n-1)`\n",
    "\n"
   ]
  },
  {
   "attachments": {},
   "cell_type": "markdown",
   "metadata": {},
   "source": [
    "So that is the goal of this exercise: To use recursion to write a function that will take a number and return the factorial of that number.\n",
    "\n"
   ]
  },
  {
   "attachments": {},
   "cell_type": "markdown",
   "metadata": {},
   "source": [
    "For example, you should be able to call your function with `factorial(4)` and get back `24`.\n",
    "\n"
   ]
  },
  {
   "attachments": {},
   "cell_type": "markdown",
   "metadata": {},
   "source": [
    "**Note**: By definition, <math xmlns=\"http://www.w3.org/1998/Math/MathML\">\n",
    "  <mn>0</mn>\n",
    "  <mo>!</mo>\n",
    "  <mo>=</mo>\n",
    "  <mn>1</mn>\n",
    "</math>"
   ]
  },
  {
   "cell_type": "code",
   "execution_count": 1,
   "metadata": {},
   "outputs": [],
   "source": [
    "# Code\n",
    "\n",
    "def factorial(n):\n",
    "    \"\"\"\n",
    "    Calculate n!\n",
    "    \n",
    "    Args:\n",
    "       n(int): factorial to be computed\n",
    "    Returns:\n",
    "       n!\n",
    "    \"\"\"\n",
    "    \n",
    "    # TODO: Write your recursive factorial function here\n",
    "    \n",
    "    pass"
   ]
  },
  {
   "cell_type": "code",
   "execution_count": 3,
   "metadata": {},
   "outputs": [],
   "source": [
    "def factorial(n):\n",
    "    \"\"\"\n",
    "    Calculate n!\n",
    "    \n",
    "    Args:\n",
    "       n(int): factorial to be computed\n",
    "    Returns:\n",
    "       n!\n",
    "    \"\"\"\n",
    "    if n == 0 : \n",
    "        return 1\n",
    "    return n * factorial(n-1)"
   ]
  },
  {
   "cell_type": "code",
   "execution_count": 4,
   "metadata": {},
   "outputs": [
    {
     "name": "stdout",
     "output_type": "stream",
     "text": [
      "Pass\n",
      "Pass\n",
      "Pass\n"
     ]
    }
   ],
   "source": [
    "# Test Cases\n",
    "\n",
    "print (\"Pass\" if (1 == factorial(0)) else \"Fail\")\n",
    "print (\"Pass\" if  (1 == factorial(1)) else \"Fail\")\n",
    "print (\"Pass\" if  (120 == factorial(5)) else \"Fail\")"
   ]
  }
 ],
 "metadata": {
  "kernelspec": {
   "display_name": "Python 3",
   "language": "python",
   "name": "python3"
  },
  "language_info": {
   "codemirror_mode": {
    "name": "ipython",
    "version": 3
   },
   "file_extension": ".py",
   "mimetype": "text/x-python",
   "name": "python",
   "nbconvert_exporter": "python",
   "pygments_lexer": "ipython3",
   "version": "3.10.6"
  },
  "orig_nbformat": 4,
  "vscode": {
   "interpreter": {
    "hash": "916dbcbb3f70747c44a77c7bcd40155683ae19c65e1c03b4aa3499c5328201f1"
   }
  }
 },
 "nbformat": 4,
 "nbformat_minor": 2
}
