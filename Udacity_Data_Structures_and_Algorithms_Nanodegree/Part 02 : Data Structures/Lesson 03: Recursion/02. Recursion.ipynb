{
 "cells": [
  {
   "attachments": {},
   "cell_type": "markdown",
   "metadata": {},
   "source": [
    "## 02. Recursion"
   ]
  },
  {
   "attachments": {},
   "cell_type": "markdown",
   "metadata": {},
   "source": [
    "### **Introduction**"
   ]
  },
  {
   "attachments": {},
   "cell_type": "markdown",
   "metadata": {},
   "source": [
    "Recursion is a technique for solving problems where the solution to a particular problem depends on the solution to a smaller instance of the same problem.\n",
    "\n"
   ]
  },
  {
   "attachments": {},
   "cell_type": "markdown",
   "metadata": {},
   "source": [
    "Consider the problem of calculating  ($2^{5}$) \n",
    "</math> . Let's assume to calculate this, you need to do one multiplication after another. That's <math xmlns=\"http://www.w3.org/1998/Math/MathML\">\n",
    "  <mn>2</mn>\n",
    "  <mo>&#x2217;</mo>\n",
    "  <mn>2</mn>\n",
    "  <mo>&#x2217;</mo>\n",
    "  <mn>2</mn>\n",
    "  <mo>&#x2217;</mo>\n",
    "  <mn>2</mn>\n",
    "  <mo>&#x2217;</mo>\n",
    "  <mn>2</mn>\n",
    "</math> We know that($2^{5}$) \n",
    "  <mo>=</mo>\n",
    "  <mn>2</mn>\n",
    "  <mo>&#x2217;</mo>\n",
    "  <msup>\n",
    "    $2^{4}$\n",
    "  </msup>\n",
    "</math> If we know the value of ($2^{4}$) \n",
    "</math> , we can easily calculate ($2^{5}$) "
   ]
  },
  {
   "attachments": {},
   "cell_type": "markdown",
   "metadata": {},
   "source": [
    "We can use recursion to solve this problem, since the solution to the original problem  ($2^{n}$) depends on the solution to a smaller instance ($2^{n-1}$) of the same problem. The recursive solution is to calculate 2*($2^{n-1}$) for all n that is greater than 0. If n is 0, return 1. We'll ignore all negative numbers."
   ]
  },
  {
   "attachments": {},
   "cell_type": "markdown",
   "metadata": {},
   "source": [
    "Let's look at what the recursive steps would be for calculating $2^{5}$"
   ]
  },
  {
   "attachments": {},
   "cell_type": "markdown",
   "metadata": {},
   "source": [
    " $2^{5}$<math xmlns=\"http://www.w3.org/1998/Math/MathML\"><mo>=</mo>\n",
    "  <mn>2</mn>\n",
    "  <mo>&#x2217;</mo>\n",
    "  <msup>\n",
    "    $2^{4}$\n",
    "  </msup>\n",
    "</math>\n",
    "\n",
    "$2^{5}$<math xmlns=\"http://www.w3.org/1998/Math/MathML\"><mo>=</mo>\n",
    "  <mn>2</mn>\n",
    "  <mo>&#x2217;</mo>\n",
    "  <mn>2</mn>\n",
    "  <mo>&#x2217;</mo>\n",
    "  <msup>\n",
    "    $2^{3}$\n",
    "  </msup>\n",
    "</math>\n",
    "\n",
    " $2^{5}$<math xmlns=\"http://www.w3.org/1998/Math/MathML\"><mo>=</mo>\n",
    "  <mn>2</mn>\n",
    "  <mo>&#x2217;</mo>\n",
    "  <mn>2</mn>\n",
    "  <mo>&#x2217;</mo>\n",
    "  <mn>2</mn>\n",
    "  <mo>&#x2217;</mo>\n",
    "  <msup>\n",
    "    $2^{2}$\n",
    "  </msup>\n",
    "</math>\n",
    "\n",
    "$2^{5}$<math xmlns=\"http://www.w3.org/1998/Math/MathML\"><mo>=</mo>\n",
    "  <mn>2</mn>\n",
    "  <mo>&#x2217;</mo>\n",
    "  <mn>2</mn>\n",
    "  <mo>&#x2217;</mo>\n",
    "  <mn>2</mn>\n",
    "  <mo>&#x2217;</mo>\n",
    "  <mn>2</mn>\n",
    "  <mo>&#x2217;</mo>\n",
    "  <msup>\n",
    "    $2^{1}$\n",
    "  </msup>\n",
    "</math>\n",
    "\n",
    "$2^{5}$<math xmlns=\"http://www.w3.org/1998/Math/MathML\"><mo>=</mo>\n",
    "  <mn>2</mn>\n",
    "  <mo>&#x2217;</mo>\n",
    "  <mn>2</mn>\n",
    "  <mo>&#x2217;</mo>\n",
    "  <mn>2</mn>\n",
    "  <mo>&#x2217;</mo>\n",
    "  <mn>2</mn>\n",
    "  <mo>&#x2217;</mo>\n",
    "  <mn>2</mn>\n",
    "  <mo>&#x2217;</mo>\n",
    "  <msup>\n",
    "    $2^{0}$\n",
    "  </msup>\n",
    "</math>\n",
    "\n",
    "$2^{5}$<math xmlns=\"http://www.w3.org/1998/Math/MathML\"><mo>=</mo>\n",
    "  <mn>2</mn>\n",
    "  <mo>&#x2217;</mo>\n",
    "  <mn>2</mn>\n",
    "  <mo>&#x2217;</mo>\n",
    "  <mn>2</mn>\n",
    "  <mo>&#x2217;</mo>\n",
    "  <mn>2</mn>\n",
    "  <mo>&#x2217;</mo>\n",
    "  <mn>2</mn>\n",
    "  <mo>&#x2217;</mo>\n",
    "  <msup>\n",
    "    1\n",
    "  </msup>\n",
    "</math>"
   ]
  },
  {
   "attachments": {},
   "cell_type": "markdown",
   "metadata": {},
   "source": [
    "**Code**"
   ]
  },
  {
   "attachments": {},
   "cell_type": "markdown",
   "metadata": {},
   "source": [
    "Let's look at the recursive function `power_of_2`, which calculates $2^{n}$"
   ]
  },
  {
   "cell_type": "code",
   "execution_count": 1,
   "metadata": {},
   "outputs": [
    {
     "name": "stdout",
     "output_type": "stream",
     "text": [
      "32\n"
     ]
    }
   ],
   "source": [
    "def power_of_2(n):\n",
    "    if n == 0 :\n",
    "        return 1 \n",
    "    return 2 * power_of_2(n-1)\n",
    "\n",
    "print(power_of_2(5))"
   ]
  },
  {
   "attachments": {},
   "cell_type": "markdown",
   "metadata": {},
   "source": [
    "As you can see, the function calls itself to calculate the smaller instance of the solution. Let's break down the `power_of_2` function, starting with the first two lines.\n",
    "\n"
   ]
  },
  {
   "attachments": {},
   "cell_type": "markdown",
   "metadata": {},
   "source": [
    "```\n",
    "if n == 0: \n",
    "   return 1\n",
    "```"
   ]
  },
  {
   "attachments": {},
   "cell_type": "markdown",
   "metadata": {},
   "source": [
    "These lines contain the base case. This is where you catch edge cases that don't fit the problem ( <mn>2</mn>\n",
    "  <mo>&#x2217;</mo>\n",
    "  <msup>\n",
    "    $2^{n-1}$\n",
    "  </msup>). Since we aren't considering any <math xmlns=\"http://www.w3.org/1998/Math/MathML\">\n",
    "  <mi>n</mi>\n",
    "  <mo>&lt;</mo>\n",
    "  <mn>0</mn>\n",
    "</math>   valid  <mn>2</mn>\n",
    "  <mo>&#x2217;</mo>\n",
    "  <msup>\n",
    "    $2^{n-1}$\n",
    "  </msup>,  can't be used when  <mi>n</mi> is  <mi>0</mi> . This section of the code returns the solution to $2^{0}$ without using <mn>2</mn>\n",
    "  <mo>&#x2217;</mo>\n",
    "  <msup>\n",
    "    $2^{n-1}$\n",
    "  </msup>"
   ]
  },
  {
   "attachments": {},
   "cell_type": "markdown",
   "metadata": {},
   "source": [
    "return 2 * power_of_2(n - 1)\n"
   ]
  },
  {
   "attachments": {},
   "cell_type": "markdown",
   "metadata": {},
   "source": [
    "This code is where it breaks the problem down into smaller instances. Using the formula $2^{n}$ = <mn>2</mn>\n",
    "  <mo>&#x2217;</mo>\n",
    "  <msup>\n",
    "    $2^{n-1}$, the `power_of_2` function calls itself to calculate $2^{n-1}$ . To better understand what is happening, let's look at the call stack with an example."
   ]
  },
  {
   "attachments": {},
   "cell_type": "markdown",
   "metadata": {},
   "source": [
    "### **Call Stack**\n"
   ]
  },
  {
   "attachments": {},
   "cell_type": "markdown",
   "metadata": {},
   "source": [
    "Let's follow the call stack when calling `power_of_2(5)`:\n",
    "\n"
   ]
  },
  {
   "attachments": {},
   "cell_type": "markdown",
   "metadata": {},
   "source": [
    "First `power_of_2(5)` is called.\n",
    "\n",
    "Then `power_of_2(5)` calls `power_of_2(4)`\n",
    "\n",
    "Then `power_of_2(4) `calls` power_of_2(3)`\n",
    "\n",
    "...\n",
    "\n",
    "Then `power_of_2(1)` calls` power_of_2(0)`\n",
    "\n"
   ]
  },
  {
   "attachments": {},
   "cell_type": "markdown",
   "metadata": {},
   "source": [
    "At this point, the call stack will look something like this:\n",
    "\n"
   ]
  },
  {
   "attachments": {},
   "cell_type": "markdown",
   "metadata": {},
   "source": [
    " ```\n",
    "  ...\n",
    "  File \"<ipython-input-27-9e8459c7465f>\", line 5, in power_of_2\n",
    "    return 2 * power_of_2(n - 1)\n",
    "  File \"<ipython-input-27-9e8459c7465f>\", line 5, in power_of_2\n",
    "    return 2 * power_of_2(n - 1)\n",
    "  File \"<ipython-input-27-9e8459c7465f>\", line 5, in power_of_2\n",
    "    return 2 * power_of_2(n - 1)\n",
    "  File \"<ipython-input-27-9e8459c7465f>\", line 5, in power_of_2\n",
    "    return 2 * power_of_2(n - 1)\n",
    "  File \"<ipython-input-27-9e8459c7465f>\", line 3, in power_of_2\n",
    "    return 1\n",
    "```"
   ]
  },
  {
   "attachments": {},
   "cell_type": "markdown",
   "metadata": {},
   "source": [
    "Let's look at a cleaner view of the stack:\n",
    "\n"
   ]
  },
  {
   "attachments": {},
   "cell_type": "markdown",
   "metadata": {},
   "source": [
    "```...\n",
    "    -> power_of_2(5)\n",
    "        -> power_of_2(4)\n",
    "            -> power_of_2(3)\n",
    "                -> power_of_2(2)\n",
    "                    -> power_of_2(1)\n",
    "                        -> power_of_2(0)\n",
    "```\n"
   ]
  },
  {
   "attachments": {},
   "cell_type": "markdown",
   "metadata": {},
   "source": [
    "Each function is waiting on the function it called to complete. So, `power_of_2(5)` is waiting for `power_of_2(4)`, `power_of_2(4)` is waiting for `power_of_2(3)`, etc..\n",
    "\n"
   ]
  },
  {
   "attachments": {},
   "cell_type": "markdown",
   "metadata": {},
   "source": [
    "The function `power_of_2(0)` will return 1"
   ]
  },
  {
   "attachments": {},
   "cell_type": "markdown",
   "metadata": {},
   "source": [
    "Using the 1 returned from `power_of_2(0),` `power_of_2(1)` will return <math xmlns=\"http://www.w3.org/1998/Math/MathML\">\n",
    "  <mn>2</mn>\n",
    "  <mo>&#x2217;</mo>\n",
    "  <mn>1</mn>\n",
    "</math>"
   ]
  },
  {
   "attachments": {},
   "cell_type": "markdown",
   "metadata": {},
   "source": [
    "Using the 2 returned from `power_of_2(1)`, `power_of_2(2)` will return <math xmlns=\"http://www.w3.org/1998/Math/MathML\">\n",
    "  <mn>2</mn>\n",
    "  <mo>&#x2217;</mo>\n",
    "  <mn>2</mn>\n",
    "</math>"
   ]
  },
  {
   "attachments": {},
   "cell_type": "markdown",
   "metadata": {},
   "source": [
    "Using the 16 returned from `power_of_2(4)`, `power_of_2(5)` will return <math xmlns=\"http://www.w3.org/1998/Math/MathML\">\n",
    "  <mn>2</mn>\n",
    "  <mo>&#x2217;</mo>\n",
    "  <mn>16</mn>\n",
    "</math>"
   ]
  },
  {
   "attachments": {},
   "cell_type": "markdown",
   "metadata": {},
   "source": [
    "Finally, the result of $2^{5}$ <math xmlns=\"http://www.w3.org/1998/Math/MathML\">\n",
    "  <mo>=</mo>\n",
    "  <mn>2</mn>\n",
    "  <mo>&#x2217;</mo>\n",
    "  <msup>\n",
    "    $2^{4}$ \n",
    "  </msup>\n",
    "  <mo>=</mo>\n",
    "  <mn>2</mn>\n",
    "  <mo>&#x2217;</mo>\n",
    "  <mn>16</mn>\n",
    "  <mo>=</mo>\n",
    "  <mn>32</mn>\n",
    "</math>"
   ]
  },
  {
   "attachments": {},
   "cell_type": "markdown",
   "metadata": {},
   "source": [
    "### **Practice Problem**\n"
   ]
  },
  {
   "attachments": {},
   "cell_type": "markdown",
   "metadata": {},
   "source": [
    "Implement `sum_integers(n)` to calculate the sum of all integers from  <math xmlns=\"http://www.w3.org/1998/Math/MathML\">\n",
    "  <mi>1</mi> to \n",
    "</math> <math xmlns=\"http://www.w3.org/1998/Math/MathML\">\n",
    "  <mi>n</mi>\n",
    "</math>using recursion. For example, `sum_integers(3)` should return <math xmlns=\"http://www.w3.org/1998/Math/MathML\">\n",
    "  <mn>6</mn>\n",
    "</math>(<math xmlns=\"http://www.w3.org/1998/Math/MathML\">\n",
    "  <mn>1</mn>\n",
    "  <mo>+</mo>\n",
    "  <mn>2</mn>\n",
    "  <mo>+</mo>\n",
    "  <mn>3</mn>\n",
    "</math>)"
   ]
  },
  {
   "cell_type": "code",
   "execution_count": 4,
   "metadata": {},
   "outputs": [
    {
     "name": "stdout",
     "output_type": "stream",
     "text": [
      "15\n"
     ]
    }
   ],
   "source": [
    "def sum_integers(n): \n",
    "    if n  == 1: \n",
    "        return n  \n",
    "    return n + sum_integers(n-1)\n",
    "\n",
    "print(sum_integers(5))\n"
   ]
  },
  {
   "cell_type": "code",
   "execution_count": 5,
   "metadata": {},
   "outputs": [
    {
     "name": "stdout",
     "output_type": "stream",
     "text": [
      "6\n"
     ]
    }
   ],
   "source": [
    "def sum_integers(n):\n",
    "    if n == 1:\n",
    "        return 1\n",
    "    \n",
    "    return n + sum_integers(n -1)\n",
    "\n",
    "print(sum_integers(3))"
   ]
  },
  {
   "attachments": {},
   "cell_type": "markdown",
   "metadata": {},
   "source": [
    "### **Gotchas**"
   ]
  },
  {
   "attachments": {},
   "cell_type": "markdown",
   "metadata": {},
   "source": [
    "When using recursion, there are a few things to look out for that you don't have to worry about when running a loop (iteratively). Let's go over a few of those items.\n",
    "\n"
   ]
  },
  {
   "attachments": {},
   "cell_type": "markdown",
   "metadata": {},
   "source": [
    "### **Call Stack**\n"
   ]
  },
  {
   "attachments": {},
   "cell_type": "markdown",
   "metadata": {},
   "source": [
    "we went over an example of the call stack when calling `power_of_2(5)` above. In this section, we'll cover the limitations of recursion on a call stack. Run the cell below to create a really large stack. It should raise the error `RecursionError: maximum recursion depth exceeded in comparison`"
   ]
  },
  {
   "cell_type": "code",
   "execution_count": 6,
   "metadata": {},
   "outputs": [
    {
     "ename": "RecursionError",
     "evalue": "maximum recursion depth exceeded in comparison",
     "output_type": "error",
     "traceback": [
      "\u001b[0;31m---------------------------------------------------------------------------\u001b[0m",
      "\u001b[0;31mRecursionError\u001b[0m                            Traceback (most recent call last)",
      "Cell \u001b[0;32mIn[6], line 1\u001b[0m\n\u001b[0;32m----> 1\u001b[0m \u001b[39mprint\u001b[39m(power_of_2(\u001b[39m10000\u001b[39;49m))\n",
      "Cell \u001b[0;32mIn[1], line 4\u001b[0m, in \u001b[0;36mpower_of_2\u001b[0;34m(n)\u001b[0m\n\u001b[1;32m      2\u001b[0m \u001b[39mif\u001b[39;00m n \u001b[39m==\u001b[39m \u001b[39m0\u001b[39m :\n\u001b[1;32m      3\u001b[0m     \u001b[39mreturn\u001b[39;00m \u001b[39m1\u001b[39m \n\u001b[0;32m----> 4\u001b[0m \u001b[39mreturn\u001b[39;00m \u001b[39m2\u001b[39m \u001b[39m*\u001b[39m power_of_2(n\u001b[39m-\u001b[39;49m\u001b[39m1\u001b[39;49m)\n",
      "Cell \u001b[0;32mIn[1], line 4\u001b[0m, in \u001b[0;36mpower_of_2\u001b[0;34m(n)\u001b[0m\n\u001b[1;32m      2\u001b[0m \u001b[39mif\u001b[39;00m n \u001b[39m==\u001b[39m \u001b[39m0\u001b[39m :\n\u001b[1;32m      3\u001b[0m     \u001b[39mreturn\u001b[39;00m \u001b[39m1\u001b[39m \n\u001b[0;32m----> 4\u001b[0m \u001b[39mreturn\u001b[39;00m \u001b[39m2\u001b[39m \u001b[39m*\u001b[39m power_of_2(n\u001b[39m-\u001b[39;49m\u001b[39m1\u001b[39;49m)\n",
      "    \u001b[0;31m[... skipping similar frames: power_of_2 at line 4 (2969 times)]\u001b[0m\n",
      "Cell \u001b[0;32mIn[1], line 4\u001b[0m, in \u001b[0;36mpower_of_2\u001b[0;34m(n)\u001b[0m\n\u001b[1;32m      2\u001b[0m \u001b[39mif\u001b[39;00m n \u001b[39m==\u001b[39m \u001b[39m0\u001b[39m :\n\u001b[1;32m      3\u001b[0m     \u001b[39mreturn\u001b[39;00m \u001b[39m1\u001b[39m \n\u001b[0;32m----> 4\u001b[0m \u001b[39mreturn\u001b[39;00m \u001b[39m2\u001b[39m \u001b[39m*\u001b[39m power_of_2(n\u001b[39m-\u001b[39;49m\u001b[39m1\u001b[39;49m)\n",
      "Cell \u001b[0;32mIn[1], line 2\u001b[0m, in \u001b[0;36mpower_of_2\u001b[0;34m(n)\u001b[0m\n\u001b[1;32m      1\u001b[0m \u001b[39mdef\u001b[39;00m \u001b[39mpower_of_2\u001b[39m(n):\n\u001b[0;32m----> 2\u001b[0m     \u001b[39mif\u001b[39;00m n \u001b[39m==\u001b[39;49m \u001b[39m0\u001b[39;49m :\n\u001b[1;32m      3\u001b[0m         \u001b[39mreturn\u001b[39;00m \u001b[39m1\u001b[39m \n\u001b[1;32m      4\u001b[0m     \u001b[39mreturn\u001b[39;00m \u001b[39m2\u001b[39m \u001b[39m*\u001b[39m power_of_2(n\u001b[39m-\u001b[39m\u001b[39m1\u001b[39m)\n",
      "\u001b[0;31mRecursionError\u001b[0m: maximum recursion depth exceeded in comparison"
     ]
    }
   ],
   "source": [
    "print(power_of_2(10000))\n"
   ]
  },
  {
   "attachments": {},
   "cell_type": "markdown",
   "metadata": {},
   "source": [
    "Python has a limit on the depth of recursion to prevent a stack overflow. However, some compilers will turn tail-recursive functions into an iterative loop to prevent recursion from using up the stack. Since Python's compiler doesn't do this, you'll have to watch out for this limit."
   ]
  },
  {
   "attachments": {},
   "cell_type": "markdown",
   "metadata": {},
   "source": [
    "### **Slicing**"
   ]
  },
  {
   "attachments": {},
   "cell_type": "markdown",
   "metadata": {},
   "source": [
    "Let's look at recursion on arrays and how you can run into the problem of slicing the array. If you haven't heard the term slicing, it's the operation of taking a subset of some data. For example, the list `a` can be sliced using the following operation: `a[start:stop]`. This will return a new list from index `start` (inclusive) to index `stop` (exclusive).\n",
    "\n"
   ]
  },
  {
   "attachments": {},
   "cell_type": "markdown",
   "metadata": {},
   "source": [
    "Let's look at an example of a recursive function that takes the sum of all numbers in an array. For example, the array of `[5, 2, 9, 11]` would sum to 27 (5 + 2 + 9 + 11).\n",
    "\n"
   ]
  },
  {
   "cell_type": "code",
   "execution_count": 9,
   "metadata": {},
   "outputs": [
    {
     "name": "stdout",
     "output_type": "stream",
     "text": [
      "10\n"
     ]
    }
   ],
   "source": [
    "def sum_array(array):\n",
    "    if len(array) == 1 : \n",
    "        return array[0]\n",
    "    return array[0] + sum_array(array[1:])\n",
    "\n",
    "arr = [1, 2, 3, 4]\n",
    "print(sum_array(arr))"
   ]
  },
  {
   "attachments": {},
   "cell_type": "markdown",
   "metadata": {},
   "source": [
    "Looking at this, you might think it has a running time of O( <math xmlns=\"http://www.w3.org/1998/Math/MathML\">\n",
    "  <mn>n</mn>\n",
    "</math>) but that isn't correct due to the slice operation `array[1:]`. This operation will take O( <math xmlns=\"http://www.w3.org/1998/Math/MathML\"> <mn>K</mn>\n",
    "</math>)  time to run where <mn>K</mn> is the number of elements to copy. So, this function is actually O(<math xmlns=\"http://www.w3.org/1998/Math/MathML\">\n",
    "  <mn>K</mn>\n",
    "  <mo>&#x2217;</mo>\n",
    "  <mn>n</mn>\n",
    "</math>) running time complexity and O(<math xmlns=\"http://www.w3.org/1998/Math/MathML\">\n",
    "  <mn>K</mn>\n",
    "  <mo>&#x2217;</mo>\n",
    "  <mn>n</mn>\n",
    "</math>) space complexity.\n",
    "\n"
   ]
  },
  {
   "attachments": {},
   "cell_type": "markdown",
   "metadata": {},
   "source": [
    "To visualize this, let's plot the time it takes to slice.\n",
    "\n"
   ]
  },
  {
   "cell_type": "code",
   "execution_count": 10,
   "metadata": {},
   "outputs": [
    {
     "data": {
      "text/plain": [
       "[]"
      ]
     },
     "execution_count": 10,
     "metadata": {},
     "output_type": "execute_result"
    },
    {
     "data": {
      "image/png": "[encoded data removed]",
      "text/plain": [
       "<Figure size 640x480 with 1 Axes>"
      ]
     },
     "metadata": {},
     "output_type": "display_data"
    }
   ],
   "source": [
    "import matplotlib.pyplot as plt\n",
    "import statistics\n",
    "import time\n",
    "%matplotlib inline\n",
    "\n",
    "n_steps = 10\n",
    "step_size = 1000000\n",
    "array_sizes = list(range(step_size, n_steps*step_size, step_size))\n",
    "big_array = list(range(n_steps*step_size))\n",
    "times = []\n",
    "\n",
    "# Calculate the time it takes for the slice function to run with different sizes of k\n",
    "for array_size in array_sizes:\n",
    "    start_time = time.time()\n",
    "    big_array[:array_size]\n",
    "    times.append(time.time() - start_time)\n",
    "\n",
    "# Graph the results\n",
    "plt.scatter(x=array_sizes, y=times)\n",
    "plt.ylim(top=max(times), bottom=min(times))\n",
    "plt.xlabel('Array Size')\n",
    "plt.ylabel('Time (seconds)')\n",
    "plt.plot()"
   ]
  },
  {
   "attachments": {},
   "cell_type": "markdown",
   "metadata": {},
   "source": [
    "As you can see, it's linear time to slice.\n",
    "\n"
   ]
  },
  {
   "attachments": {},
   "cell_type": "markdown",
   "metadata": {},
   "source": [
    "Instead of slicing, we can pass the index for the element that we want to use for addition. That will give us the following function:\n",
    "\n"
   ]
  },
  {
   "cell_type": "code",
   "execution_count": 13,
   "metadata": {},
   "outputs": [
    {
     "name": "stdout",
     "output_type": "stream",
     "text": [
      "10\n"
     ]
    }
   ],
   "source": [
    "def sum_array_index(array, index):\n",
    "    # Base Cases\n",
    "    if len(array) - 1 == index:\n",
    "        return array[index]\n",
    "    \n",
    "    return array[index] + sum_array_index(array, index + 1)\n",
    "\n",
    "arr = [1, 2, 3, 4]\n",
    "print(sum_array_index(arr, 0))"
   ]
  },
  {
   "attachments": {},
   "cell_type": "markdown",
   "metadata": {},
   "source": [
    "That eliminates the need to do slicing. With the two different functions implemented, let's compare the running times.\n",
    "\n"
   ]
  },
  {
   "cell_type": "code",
   "execution_count": 14,
   "metadata": {},
   "outputs": [
    {
     "data": {
      "text/plain": [
       "[]"
      ]
     },
     "execution_count": 14,
     "metadata": {},
     "output_type": "execute_result"
    },
    {
     "data": {
      "image/png": "[encoded data removed]",
      "text/plain": [
       "<Figure size 640x480 with 1 Axes>"
      ]
     },
     "metadata": {},
     "output_type": "display_data"
    }
   ],
   "source": [
    "import matplotlib.pyplot as plt\n",
    "import statistics\n",
    "import time\n",
    "\n",
    "n_steps = 10\n",
    "step_size = 200\n",
    "array_sizes = list(range(step_size, n_steps*step_size, step_size))\n",
    "big_array = list(range(n_steps*step_size))\n",
    "sum_array_times = []\n",
    "sum_array_index_times = []\n",
    "\n",
    "for array_size in array_sizes:\n",
    "    subset_array = big_array[:array_size]\n",
    "    \n",
    "    start_time = time.time()\n",
    "    sum_array(subset_array)\n",
    "    sum_array_times.append(time.time() - start_time)\n",
    "    \n",
    "    start_time = time.time()\n",
    "    sum_array_index(subset_array, 0)\n",
    "    sum_array_index_times.append(time.time() - start_time)\n",
    "    \n",
    "    \n",
    "plt.scatter(x=array_sizes, y=sum_array_times, label='sum_array')\n",
    "plt.scatter(x=array_sizes, y=sum_array_index_times, label='sum_array_index')\n",
    "plt.ylim(\n",
    "    top=max(sum_array_times + sum_array_index_times),\n",
    "    bottom=min(sum_array_times + sum_array_index_times))\n",
    "plt.legend()\n",
    "plt.xlabel('Array Size')\n",
    "plt.ylabel('Time (seconds)')\n",
    "plt.plot()"
   ]
  },
  {
   "attachments": {},
   "cell_type": "markdown",
   "metadata": {},
   "source": [
    "As you can see, the function `sum_array` is a polynomial and `sum_array_index` is linear as we predicted.\n",
    "\n"
   ]
  },
  {
   "attachments": {},
   "cell_type": "markdown",
   "metadata": {},
   "source": [
    "However, in our pursuit to use recursion we actually made things worse. Let's look at an iterative solution to this problem:\n",
    "\n"
   ]
  },
  {
   "cell_type": "code",
   "execution_count": 15,
   "metadata": {},
   "outputs": [
    {
     "name": "stdout",
     "output_type": "stream",
     "text": [
      "10\n"
     ]
    }
   ],
   "source": [
    "def sum_array_iter(array):\n",
    "    result = 0\n",
    "    \n",
    "    for x in array:\n",
    "        result += x\n",
    "    \n",
    "    return result\n",
    "\n",
    "arr = [1, 2, 3, 4]\n",
    "print(sum_array_iter(arr))"
   ]
  },
  {
   "attachments": {},
   "cell_type": "markdown",
   "metadata": {},
   "source": [
    "The `sum_array_iter` function is a lot more straightforward than the two recursive functions, which is important. Second, to help ensure an answer that is correct and bug free, you generally want to pick the solution that is more readable. In some cases recursion is more readable and in some cases iteration is more readable. As you gain experience reading other people’s code, you’ll get an intuition for code readability."
   ]
  }
 ],
 "metadata": {
  "kernelspec": {
   "display_name": "Python 3",
   "language": "python",
   "name": "python3"
  },
  "language_info": {
   "codemirror_mode": {
    "name": "ipython",
    "version": 3
   },
   "file_extension": ".py",
   "mimetype": "text/x-python",
   "name": "python",
   "nbconvert_exporter": "python",
   "pygments_lexer": "ipython3",
   "version": "3.10.6"
  },
  "orig_nbformat": 4,
  "vscode": {
   "interpreter": {
    "hash": "916dbcbb3f70747c44a77c7bcd40155683ae19c65e1c03b4aa3499c5328201f1"
   }
  }
 },
 "nbformat": 4,
 "nbformat_minor": 2
}
