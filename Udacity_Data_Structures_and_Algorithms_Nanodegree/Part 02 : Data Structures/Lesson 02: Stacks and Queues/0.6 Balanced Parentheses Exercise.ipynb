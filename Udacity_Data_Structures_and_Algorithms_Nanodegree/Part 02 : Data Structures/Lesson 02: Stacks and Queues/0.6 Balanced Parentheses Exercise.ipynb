{
 "cells": [
  {
   "cell_type": "markdown",
   "metadata": {},
   "source": [
    "## Balanced Parentheses Exercise\n"
   ]
  },
  {
   "attachments": {},
   "cell_type": "markdown",
   "metadata": {},
   "source": [
    "In this exercise you are going to apply what you learned about stacks with a real world problem. We will be using stacks to make sure the parentheses are balanced in mathematical expressions such as:<math xmlns=\"http://www.w3.org/1998/Math/MathML\">\n",
    "  <mo stretchy=\"false\">(</mo>\n",
    "  <mo stretchy=\"false\">(</mo>\n",
    "  <msup>\n",
    "    <mn>3</mn>\n",
    "    <mn>2</mn>\n",
    "  </msup>\n",
    "  <mo>+</mo>\n",
    "  <mn>8</mn>\n",
    "  <mo stretchy=\"false\">)</mo>\n",
    "  <mo>&#x2217;</mo>\n",
    "  <mo stretchy=\"false\">(</mo>\n",
    "  <mn>5</mn>\n",
    "  <mrow data-mjx-texclass=\"ORD\">\n",
    "    <mo>/</mo>\n",
    "  </mrow>\n",
    "  <mn>2</mn>\n",
    "  <mo stretchy=\"false\">)</mo>\n",
    "  <mo stretchy=\"false\">)</mo>\n",
    "  <mrow data-mjx-texclass=\"ORD\">\n",
    "    <mo>/</mo>\n",
    "  </mrow>\n",
    "  <mo stretchy=\"false\">(</mo>\n",
    "  <mn>2</mn>\n",
    "  <mo>+</mo>\n",
    "  <mn>6</mn>\n",
    "  <mo stretchy=\"false\">)</mo>\n",
    "  <mo>.</mo>\n",
    "</math>\n",
    "  In real life you can see this extend to many things such as text editor plugins and interactive development environments for all sorts of bracket completion checks."
   ]
  },
  {
   "attachments": {},
   "cell_type": "markdown",
   "metadata": {},
   "source": [
    "Take a string as an input and return `True` if it's parentheses are balanced or `False` if it is not.\n",
    "\n"
   ]
  },
  {
   "attachments": {},
   "cell_type": "markdown",
   "metadata": {},
   "source": [
    "Try to code up a solution and pass the test cases.\n",
    "\n"
   ]
  },
  {
   "cell_type": "code",
   "execution_count": 10,
   "metadata": {},
   "outputs": [],
   "source": [
    "# Our Stack Class - Brought from previous concept\n",
    "# No need to modify this\n",
    "class Stack:\n",
    "    def __init__(self):\n",
    "        self.items = []\n",
    "    \n",
    "    def size(self):\n",
    "        return len(self.items)\n",
    "    \n",
    "    def push(self, item):\n",
    "        self.items.append(item)\n",
    "\n",
    "    def pop(self):\n",
    "        if self.size()==0:\n",
    "            return None\n",
    "        else:\n",
    "            return self.items.pop()\n",
    "\n",
    "def equation_checker(equation):\n",
    "    \"\"\"\n",
    "    Check equation for balanced parentheses\n",
    "\n",
    "    Args:\n",
    "       equation(string): String form of equation\n",
    "    Returns:\n",
    "       bool: Return if parentheses are balanced or not\n",
    "    \"\"\"\n",
    "    \n",
    "    stack = Stack()\n",
    "\n",
    "    for char in equation:\n",
    "        if char == \"(\":\n",
    "            stack.push(char)\n",
    "        elif char == \")\":\n",
    "            if stack.pop() == None:\n",
    "                return False\n",
    "\n",
    "    if stack.size() == 0:\n",
    "        return True\n",
    "    else:\n",
    "        return False"
   ]
  },
  {
   "attachments": {},
   "cell_type": "markdown",
   "metadata": {},
   "source": [
    "#### Test Cases\n"
   ]
  },
  {
   "cell_type": "code",
   "execution_count": 11,
   "metadata": {},
   "outputs": [
    {
     "name": "stdout",
     "output_type": "stream",
     "text": [
      "Pass\n",
      "Pass\n"
     ]
    }
   ],
   "source": [
    "print (\"Pass\" if (equation_checker('((3^2 + 8)*(5/2))/(2+6)')) else \"Fail\")\n",
    "print (\"Pass\" if not (equation_checker('((3^2 + 8)*(5/2))/(2+6))')) else \"Fail\")\n"
   ]
  },
  {
   "cell_type": "code",
   "execution_count": null,
   "metadata": {},
   "outputs": [],
   "source": []
  }
 ],
 "metadata": {
  "kernelspec": {
   "display_name": "Python 3",
   "language": "python",
   "name": "python3"
  },
  "language_info": {
   "codemirror_mode": {
    "name": "ipython",
    "version": 3
   },
   "file_extension": ".py",
   "mimetype": "text/x-python",
   "name": "python",
   "nbconvert_exporter": "python",
   "pygments_lexer": "ipython3",
   "version": "3.10.6"
  },
  "orig_nbformat": 4,
  "vscode": {
   "interpreter": {
    "hash": "916dbcbb3f70747c44a77c7bcd40155683ae19c65e1c03b4aa3499c5328201f1"
   }
  }
 },
 "nbformat": 4,
 "nbformat_minor": 2
}
