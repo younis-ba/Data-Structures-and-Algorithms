{
 "cells": [
  {
   "attachments": {},
   "cell_type": "markdown",
   "metadata": {},
   "source": [
    "## 13. Build a Queue Using a Stack"
   ]
  },
  {
   "attachments": {},
   "cell_type": "markdown",
   "metadata": {},
   "source": [
    "In this exercise we are going to create a queue with just stacks.\n",
    "\n"
   ]
  },
  {
   "attachments": {},
   "cell_type": "markdown",
   "metadata": {},
   "source": [
    "**Code**"
   ]
  },
  {
   "cell_type": "code",
   "execution_count": 1,
   "metadata": {},
   "outputs": [],
   "source": [
    "# Here is our Stack Class\n",
    "\n",
    "class Stack:\n",
    "    def __init__(self):\n",
    "        self.items = []\n",
    "    \n",
    "    def size(self):\n",
    "        return len(self.items)\n",
    "    \n",
    "    def push(self, item):\n",
    "        self.items.append(item)\n",
    "\n",
    "    def pop(self):\n",
    "        if self.size()==0:\n",
    "            return None\n",
    "        else:\n",
    "            return self.items.pop()\n",
    "\n",
    "class Queue:\n",
    "    def __init__(self):\n",
    "        self.instorge = Stack()\n",
    "        self.outstorge = Stack()\n",
    "        \n",
    "    def size(self):\n",
    "        return self.instorge.size() + self.outstorge.size()\n",
    "        \n",
    "    def enqueue(self,item):\n",
    "        self.instorge.push(item)\n",
    "        \n",
    "    def dequeue(self):\n",
    "        if not self.outstorge.items : \n",
    "            while self.instorge.items : \n",
    "                self.outstorge.push(self.instorge.pop())\n",
    "        return self.outstorge.pop()\n"
   ]
  },
  {
   "cell_type": "code",
   "execution_count": 2,
   "metadata": {},
   "outputs": [
    {
     "name": "stdout",
     "output_type": "stream",
     "text": [
      "Pass\n",
      "Pass\n",
      "Pass\n",
      "Pass\n",
      "Pass\n",
      "Pass\n"
     ]
    }
   ],
   "source": [
    "        \n",
    "# Setup\n",
    "q = Queue()\n",
    "q.enqueue(1)\n",
    "q.enqueue(2)\n",
    "q.enqueue(3)\n",
    "\n",
    "# Test size\n",
    "print (\"Pass\" if (q.size() == 3) else \"Fail\")\n",
    "\n",
    "# Test dequeue\n",
    "print (\"Pass\" if (q.dequeue() == 1) else \"Fail\")\n",
    "\n",
    "# Test enqueue\n",
    "q.enqueue(4)\n",
    "print (\"Pass\" if (q.dequeue() == 2) else \"Fail\")\n",
    "print (\"Pass\" if (q.dequeue() == 3) else \"Fail\")\n",
    "print (\"Pass\" if (q.dequeue() == 4) else \"Fail\")\n",
    "q.enqueue(5)\n",
    "print (\"Pass\" if (q.size() == 1) else \"Fail\") "
   ]
  },
  {
   "cell_type": "code",
   "execution_count": null,
   "metadata": {},
   "outputs": [],
   "source": []
  }
 ],
 "metadata": {
  "kernelspec": {
   "display_name": "Python 3",
   "language": "python",
   "name": "python3"
  },
  "language_info": {
   "codemirror_mode": {
    "name": "ipython",
    "version": 3
   },
   "file_extension": ".py",
   "mimetype": "text/x-python",
   "name": "python",
   "nbconvert_exporter": "python",
   "pygments_lexer": "ipython3",
   "version": "3.10.6"
  },
  "orig_nbformat": 4,
  "vscode": {
   "interpreter": {
    "hash": "916dbcbb3f70747c44a77c7bcd40155683ae19c65e1c03b4aa3499c5328201f1"
   }
  }
 },
 "nbformat": 4,
 "nbformat_minor": 2
}
