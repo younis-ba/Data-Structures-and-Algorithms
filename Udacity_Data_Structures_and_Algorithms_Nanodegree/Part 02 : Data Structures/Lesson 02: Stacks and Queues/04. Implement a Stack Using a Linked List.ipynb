{
 "cells": [
  {
   "attachments": {},
   "cell_type": "markdown",
   "metadata": {},
   "source": [
    "## Implement a stack using a linked list\n",
    "\n",
    "Previously, we looked at how to implement a stack using an array. While that approach does work, we saw that it raises some concerns with time complexity. For example, if we exceed the capacity of the array, we have to go through the laborious process of creating a new array and moving over all the elements from the old array.\n",
    "\n"
   ]
  },
  {
   "attachments": {},
   "cell_type": "markdown",
   "metadata": {},
   "source": [
    "What if we instead implement the stack using a linked list? Can this improve our time complexity? Let's give it a try.\n",
    "\n"
   ]
  },
  {
   "attachments": {},
   "cell_type": "markdown",
   "metadata": {},
   "source": [
    "#### 1. Define a Node class\n",
    "Since we'll be implementing a linked list for this, we know that we'll need a `Node` class like we used earlier in this lesson.\n",
    "\n",
    "See if you can remember how to do this, and implement it in the cell below.\n",
    "\n",
    "- Note: If you've forgotten, that's completely OK—simply take a look at the solution in order to remind yourself. Then hide the solution, take a short break, and see if you can remember how to do it. Throughout this course, you will find yourself building on concepts you learned earlier. Whenever this is the case, it's good to take this same approach (try to remember, then check the solution, then hide the solution and try to remember again). This effort will help the ideas stick better."
   ]
  },
  {
   "cell_type": "code",
   "execution_count": 1,
   "metadata": {},
   "outputs": [],
   "source": [
    "class Node():\n",
    "    def __init__(self , value) :\n",
    "        self.value = value\n",
    "        self.next = None"
   ]
  },
  {
   "attachments": {},
   "cell_type": "markdown",
   "metadata": {},
   "source": [
    "#### 2. Create the Stack class and its `__init__` method\n"
   ]
  },
  {
   "cell_type": "code",
   "execution_count": 2,
   "metadata": {},
   "outputs": [],
   "source": [
    "class Stack(): \n",
    "    def __init__(self):\n",
    "        self.head = None\n",
    "        self.num_elements=0 \n"
   ]
  },
  {
   "attachments": {},
   "cell_type": "markdown",
   "metadata": {},
   "source": [
    "#### 3. Add the `push` method\n"
   ]
  },
  {
   "attachments": {},
   "cell_type": "markdown",
   "metadata": {},
   "source": [
    "Next, we need to define our push method, so that we have a way of adding elements to the top of the stack. First, have a look at the walkthrough:\n",
    "\n"
   ]
  },
  {
   "cell_type": "code",
   "execution_count": 5,
   "metadata": {},
   "outputs": [],
   "source": [
    "def push(self, value):\n",
    "    new_node = Node(value)        \n",
    "    # if stack is empty\n",
    "    if self.head is None:\n",
    "        self.head = new_node\n",
    "    # Should we add it to the tail?\n",
    "    else:\n",
    "        current_node = self.head\n",
    "        while current_node.next:\n",
    "            current_node = current_node.next\n",
    "        current_node.next = new_node\n",
    "    # Or should we add it to the head?\n",
    "    # else:\n",
    "    #     new_node.next = self.head    # place the new node at the head of the linked list (top)\n",
    "    #     self.head = new_node\n",
    "\n",
    "    #     self.num_elements += 1"
   ]
  },
  {
   "attachments": {},
   "cell_type": "markdown",
   "metadata": {},
   "source": [
    "Now give it a try for yourself. In the cell below, add the push method:\n",
    "\n",
    "- The method will need to have a parameter for the value that you want to push\n",
    "- You'll then need to create a new Node object with this value and link it to the list\n",
    "- Remember that we want to add new items at the head of the stack, not the tail!\n",
    "- Once you've added the new node, you'll want to increment num_elements"
   ]
  },
  {
   "cell_type": "code",
   "execution_count": null,
   "metadata": {},
   "outputs": [],
   "source": [
    "class Stack:\n",
    "    \n",
    "    def __init__(self):\n",
    "        self.head = None\n",
    "        self.num_elements = 0\n",
    "        \n",
    "    # TODO: Add the push method"
   ]
  },
  {
   "cell_type": "code",
   "execution_count": 7,
   "metadata": {},
   "outputs": [],
   "source": [
    "class Stack:\n",
    "    \n",
    "    def __init__(self):\n",
    "        self.head = None\n",
    "        self.num_elements = 0\n",
    "        \n",
    "    def push(self , value): \n",
    "        node=Node(value)\n",
    "        # if stack is empty\n",
    "        if self.head == None : \n",
    "            self.head=node\n",
    "        \n",
    "        else : \n",
    "            node.next = self.head  # place the new node at the head of the linked list (top)\n",
    "            self.head=node\n",
    "        self.num_elements +=1  \n"
   ]
  },
  {
   "attachments": {},
   "cell_type": "markdown",
   "metadata": {},
   "source": [
    "#### 4. Add the `size` and `is_empty` methods\n"
   ]
  },
  {
   "attachments": {},
   "cell_type": "markdown",
   "metadata": {},
   "source": [
    "When we implemented a stack using an array, we had these same methods. They'll work exactly the same way here—they aren't affected by the use of a linked list versus an array."
   ]
  },
  {
   "attachments": {},
   "cell_type": "markdown",
   "metadata": {},
   "source": [
    "- Add a `size` method that returns the current size of the stack\n",
    "- Add an `is_empty` method that returns `True` if the stack is `empty` and `False` otherwise"
   ]
  },
  {
   "cell_type": "code",
   "execution_count": null,
   "metadata": {},
   "outputs": [],
   "source": []
  }
 ],
 "metadata": {
  "kernelspec": {
   "display_name": "Python 3",
   "language": "python",
   "name": "python3"
  },
  "language_info": {
   "codemirror_mode": {
    "name": "ipython",
    "version": 3
   },
   "file_extension": ".py",
   "mimetype": "text/x-python",
   "name": "python",
   "nbconvert_exporter": "python",
   "pygments_lexer": "ipython3",
   "version": "3.10.6"
  },
  "orig_nbformat": 4,
  "vscode": {
   "interpreter": {
    "hash": "916dbcbb3f70747c44a77c7bcd40155683ae19c65e1c03b4aa3499c5328201f1"
   }
  }
 },
 "nbformat": 4,
 "nbformat_minor": 2
}
