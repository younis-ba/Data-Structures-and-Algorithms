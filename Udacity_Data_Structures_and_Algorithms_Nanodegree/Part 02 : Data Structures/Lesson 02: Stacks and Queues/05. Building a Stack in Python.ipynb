{
 "cells": [
  {
   "cell_type": "markdown",
   "metadata": {},
   "source": [
    "## Building a Stack in Python"
   ]
  },
  {
   "attachments": {},
   "cell_type": "markdown",
   "metadata": {},
   "source": [
    "Before we start let us reiterate they key components of a stack. A stack is a data structure that consists of two main operations: push and pop.<br> \n",
    "\n",
    "A push is when you add an element to the **top of the stack** and a pop is when you remove an element from the **top of the stack**. <br> \n",
    "\n",
    "Python 3.x conviently allows us to demonstate this functionality with a list. When you have a list such as `[2,4,5,6]` you can decide which end of the list is the bottom and the top of the stack respectivley. <br>\n",
    "\n",
    "Once you decide that, you can use the append, pop or insert function to simulate a stack. We will choose the first element to be the bottom of our stack and therefore be using the append and pop functions to simulate it. Give it a try by implementing the function below!"
   ]
  },
  {
   "attachments": {},
   "cell_type": "markdown",
   "metadata": {},
   "source": [
    "#### Try Building a Stack\n"
   ]
  },
  {
   "cell_type": "code",
   "execution_count": 3,
   "metadata": {},
   "outputs": [],
   "source": [
    "class Stack:\n",
    "    def __init__(self):\n",
    "         # TODO: Initialize the Stack\n",
    "         pass\n",
    "    def size(self):\n",
    "        # TODO: Check the size of the Stack\n",
    "        pass\n",
    "    \n",
    "    def push(self, item):\n",
    "        # TODO: Push item onto Stack\n",
    "        pass\n",
    "\n",
    "    def pop(self):\n",
    "        # TODO: Pop item off of the Stack\n",
    "        pass"
   ]
  },
  {
   "cell_type": "code",
   "execution_count": 8,
   "metadata": {},
   "outputs": [],
   "source": [
    "class Stack:\n",
    "    def __init__(self , initial_size=10):\n",
    "        self.items = [0 for _ in range(initial_size)]\n",
    "        self.num_elements = 0 \n",
    "        self.index = 0 \n",
    "    def size(self):\n",
    "        return self.num_elements\n",
    "        \n",
    "    def push(self, item):\n",
    "        self.items[self.index] = item \n",
    "        self.index +=1 \n",
    "        self.num_elements += 1 \n",
    "\n",
    "    def pop(self):\n",
    "        if self.index == 0 : \n",
    "            return None \n",
    "        value = self.items[self.index]\n",
    "        self.items[self.index] = 0 \n",
    "        self.index -=1\n",
    "        self.num_elements -=1\n",
    "        return value"
   ]
  },
  {
   "cell_type": "code",
   "execution_count": null,
   "metadata": {},
   "outputs": [],
   "source": [
    "## sloution \n",
    "class Stack:\n",
    "    def __init__(self):\n",
    "        self.items = []\n",
    "    \n",
    "    def size(self):\n",
    "        return len(self.items)\n",
    "    \n",
    "    def push(self, item):\n",
    "        self.items.append(item)\n",
    "\n",
    "    def pop(self):\n",
    "        if self.size()==0:\n",
    "            return None\n",
    "        else:\n",
    "            return self.items.pop()"
   ]
  },
  {
   "cell_type": "markdown",
   "metadata": {},
   "source": [
    "#### Test the Stack\n"
   ]
  },
  {
   "cell_type": "code",
   "execution_count": 9,
   "metadata": {},
   "outputs": [
    {
     "name": "stdout",
     "output_type": "stream",
     "text": [
      "['Web Page 1', 'Web Page 2', 'Web Page 3', 0, 0, 0, 0, 0, 0, 0]\n",
      "Pass\n",
      "Pass\n"
     ]
    }
   ],
   "source": [
    "MyStack = Stack()\n",
    "\n",
    "MyStack.push(\"Web Page 1\")\n",
    "MyStack.push(\"Web Page 2\")\n",
    "MyStack.push(\"Web Page 3\")\n",
    "\n",
    "print (MyStack.items)\n",
    "\n",
    "MyStack.pop()\n",
    "MyStack.pop()\n",
    "\n",
    "print (\"Pass\" if (MyStack.items[0] == 'Web Page 1') else \"Fail\")\n",
    "\n",
    "MyStack.pop()\n",
    "\n",
    "print (\"Pass\" if (MyStack.pop() == None) else \"Fail\")"
   ]
  },
  {
   "cell_type": "code",
   "execution_count": null,
   "metadata": {},
   "outputs": [],
   "source": []
  }
 ],
 "metadata": {
  "kernelspec": {
   "display_name": "Python 3",
   "language": "python",
   "name": "python3"
  },
  "language_info": {
   "codemirror_mode": {
    "name": "ipython",
    "version": 3
   },
   "file_extension": ".py",
   "mimetype": "text/x-python",
   "name": "python",
   "nbconvert_exporter": "python",
   "pygments_lexer": "ipython3",
   "version": "3.10.6"
  },
  "orig_nbformat": 4,
  "vscode": {
   "interpreter": {
    "hash": "916dbcbb3f70747c44a77c7bcd40155683ae19c65e1c03b4aa3499c5328201f1"
   }
  }
 },
 "nbformat": 4,
 "nbformat_minor": 2
}
