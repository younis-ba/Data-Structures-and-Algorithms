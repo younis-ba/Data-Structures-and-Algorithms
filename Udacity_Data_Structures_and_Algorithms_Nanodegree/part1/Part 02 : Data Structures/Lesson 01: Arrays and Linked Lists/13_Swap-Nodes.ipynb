{
 "cells": [
  {
   "attachments": {},
   "cell_type": "markdown",
   "metadata": {},
   "source": [
    "## Problem Statement\n",
    "\n",
    "Given a linked list, swap the two nodes present at position `i and j`. The positions are based on 0-based indexing.\n",
    "\n",
    "`Note`: You have to swap the nodes and not just the values.\n",
    "\n",
    "**Example:**\n",
    "\n",
    "* linked_list = 3 4 5 2 6 1 9\n",
    "* positions = 3 4\n",
    "* output = 3 4 5 6 2 1 9\n",
    "\n",
    "**Explanation:**\n",
    "\n",
    "* The node at position 3 has the value 2\n",
    "* The node at position 4 has the value 6\n",
    "* Swapping these nodes will result in a final order of nodes of 3 4 5 6 2 1 9"
   ]
  },
  {
   "cell_type": "code",
   "execution_count": null,
   "metadata": {},
   "outputs": [],
   "source": []
  },
  {
   "cell_type": "code",
   "execution_count": null,
   "metadata": {},
   "outputs": [],
   "source": [
    "def test_function(test_case):\n",
    "    head = test_case[0]\n",
    "    left_index = test_case[1]\n",
    "    right_index = test_case[2]\n",
    "    \n",
    "    left_node = None\n",
    "    right_node = None\n",
    "    \n",
    "    temp = head\n",
    "    index = 0\n",
    "    try:\n",
    "        while temp is not None:\n",
    "            if index == left_index:\n",
    "                left_node = temp\n",
    "            if index == right_index:\n",
    "                right_node = temp\n",
    "                break\n",
    "            index += 1\n",
    "            temp = temp.next\n",
    "\n",
    "        updated_head = swap_nodes(head, left_index, right_index)\n",
    "\n",
    "        temp = updated_head\n",
    "        index = 0\n",
    "        pass_status = [False, False]\n",
    "\n",
    "        while temp is not None:\n",
    "            if index == left_index:\n",
    "                pass_status[0] = temp is right_node\n",
    "            if index == right_index:\n",
    "                pass_status[1] = temp is left_node\n",
    "\n",
    "            index += 1\n",
    "            temp = temp.next\n",
    "\n",
    "        if pass_status[0] and pass_status[1]:\n",
    "            print(\"Pass\")\n",
    "        else:\n",
    "            print(\"Fail\")\n",
    "        return updated_head\n",
    "    except Exception as e:\n",
    "        print(\"Fail\")"
   ]
  },
  {
   "cell_type": "code",
   "execution_count": null,
   "metadata": {},
   "outputs": [],
   "source": [
    "# helper functions for testing purpose\n",
    "def create_linked_list(arr):\n",
    "    if len(arr)==0:\n",
    "        return None\n",
    "    head = Node(arr[0])\n",
    "    tail = head\n",
    "    for data in arr[1:]:\n",
    "        tail.next = Node(data)\n",
    "        tail = tail.next\n",
    "    return head\n",
    "\n",
    "def print_linked_list(head):\n",
    "    while head:\n",
    "        print(head.data, end=\" \")\n",
    "        head = head.next\n",
    "    print()"
   ]
  },
  {
   "cell_type": "code",
   "execution_count": null,
   "metadata": {},
   "outputs": [],
   "source": [
    "arr = [3, 4, 5, 2, 6, 1, 9]\n",
    "head = create_linked_list(arr)\n",
    "left_index = 3\n",
    "right_index = 4\n",
    "\n",
    "test_case = [head, left_index, right_index]\n",
    "updated_head = test_function(test_case)\n",
    "\n",
    "\n",
    "arr = [3, 4, 5, 2, 6, 1, 9]\n",
    "left_index = 2 \n",
    "right_index = 4\n",
    "head = create_linked_list(arr)\n",
    "test_case = [head, left_index, right_index]\n",
    "updated_head = test_function(test_case)\n",
    "\n",
    "arr = [3, 4, 5, 2, 6, 1, 9]\n",
    "left_index = 0\n",
    "right_index = 1\n",
    "head = create_linked_list(arr)\n",
    "test_case = [head, left_index, right_index]\n",
    "updated_head = test_function(test_case)"
   ]
  }
 ],
 "metadata": {
  "kernelspec": {
   "display_name": "Python 3",
   "language": "python",
   "name": "python3"
  },
  "language_info": {
   "name": "python",
   "version": "3.8.10 (default, Nov 14 2022, 12:59:47) \n[GCC 9.4.0]"
  },
  "orig_nbformat": 4,
  "vscode": {
   "interpreter": {
    "hash": "e7370f93d1d0cde622a1f8e1c04877d8463912d04d973331ad4851f04de6915a"
   }
  }
 },
 "nbformat": 4,
 "nbformat_minor": 2
}
